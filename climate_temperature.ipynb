{
  "nbformat": 4,
  "nbformat_minor": 0,
  "metadata": {
    "colab": {
      "provenance": [],
      "include_colab_link": true
    },
    "kernelspec": {
      "name": "python3",
      "display_name": "Python 3"
    },
    "language_info": {
      "name": "python"
    }
  },
  "cells": [
    {
      "cell_type": "markdown",
      "metadata": {
        "id": "view-in-github",
        "colab_type": "text"
      },
      "source": [
        "<a href=\"https://colab.research.google.com/github/HassanZeb01/land_temperature_by_country/blob/main/climate_temperature.ipynb\" target=\"_parent\"><img src=\"https://colab.research.google.com/assets/colab-badge.svg\" alt=\"Open In Colab\"/></a>"
      ]
    },
    {
      "cell_type": "code",
      "execution_count": 6,
      "metadata": {
        "id": "p-48wI98xgDK"
      },
      "outputs": [],
      "source": [
        "import numpy as np\n",
        "import pandas as pd\n",
        "import matplotlib.pyplot as plt\n",
        "import seaborn as sns\n"
      ]
    },
    {
      "cell_type": "markdown",
      "source": [
        "### ***Connecting to Kaggle Dataset***"
      ],
      "metadata": {
        "id": "yGMLpiOiXeTU"
      }
    },
    {
      "cell_type": "code",
      "source": [
        "from google.colab import files\n",
        "files.upload()\n"
      ],
      "metadata": {
        "collapsed": true,
        "colab": {
          "base_uri": "https://localhost:8080/",
          "height": 92
        },
        "id": "jIBMcrx9W8ae",
        "outputId": "5f7816d5-a107-41a7-b33f-7064fd9a2148"
      },
      "execution_count": 1,
      "outputs": [
        {
          "output_type": "display_data",
          "data": {
            "text/plain": [
              "<IPython.core.display.HTML object>"
            ],
            "text/html": [
              "\n",
              "     <input type=\"file\" id=\"files-417181dd-f891-4a4f-bc96-cd53ba012edb\" name=\"files[]\" multiple disabled\n",
              "        style=\"border:none\" />\n",
              "     <output id=\"result-417181dd-f891-4a4f-bc96-cd53ba012edb\">\n",
              "      Upload widget is only available when the cell has been executed in the\n",
              "      current browser session. Please rerun this cell to enable.\n",
              "      </output>\n",
              "      <script>// Copyright 2017 Google LLC\n",
              "//\n",
              "// Licensed under the Apache License, Version 2.0 (the \"License\");\n",
              "// you may not use this file except in compliance with the License.\n",
              "// You may obtain a copy of the License at\n",
              "//\n",
              "//      http://www.apache.org/licenses/LICENSE-2.0\n",
              "//\n",
              "// Unless required by applicable law or agreed to in writing, software\n",
              "// distributed under the License is distributed on an \"AS IS\" BASIS,\n",
              "// WITHOUT WARRANTIES OR CONDITIONS OF ANY KIND, either express or implied.\n",
              "// See the License for the specific language governing permissions and\n",
              "// limitations under the License.\n",
              "\n",
              "/**\n",
              " * @fileoverview Helpers for google.colab Python module.\n",
              " */\n",
              "(function(scope) {\n",
              "function span(text, styleAttributes = {}) {\n",
              "  const element = document.createElement('span');\n",
              "  element.textContent = text;\n",
              "  for (const key of Object.keys(styleAttributes)) {\n",
              "    element.style[key] = styleAttributes[key];\n",
              "  }\n",
              "  return element;\n",
              "}\n",
              "\n",
              "// Max number of bytes which will be uploaded at a time.\n",
              "const MAX_PAYLOAD_SIZE = 100 * 1024;\n",
              "\n",
              "function _uploadFiles(inputId, outputId) {\n",
              "  const steps = uploadFilesStep(inputId, outputId);\n",
              "  const outputElement = document.getElementById(outputId);\n",
              "  // Cache steps on the outputElement to make it available for the next call\n",
              "  // to uploadFilesContinue from Python.\n",
              "  outputElement.steps = steps;\n",
              "\n",
              "  return _uploadFilesContinue(outputId);\n",
              "}\n",
              "\n",
              "// This is roughly an async generator (not supported in the browser yet),\n",
              "// where there are multiple asynchronous steps and the Python side is going\n",
              "// to poll for completion of each step.\n",
              "// This uses a Promise to block the python side on completion of each step,\n",
              "// then passes the result of the previous step as the input to the next step.\n",
              "function _uploadFilesContinue(outputId) {\n",
              "  const outputElement = document.getElementById(outputId);\n",
              "  const steps = outputElement.steps;\n",
              "\n",
              "  const next = steps.next(outputElement.lastPromiseValue);\n",
              "  return Promise.resolve(next.value.promise).then((value) => {\n",
              "    // Cache the last promise value to make it available to the next\n",
              "    // step of the generator.\n",
              "    outputElement.lastPromiseValue = value;\n",
              "    return next.value.response;\n",
              "  });\n",
              "}\n",
              "\n",
              "/**\n",
              " * Generator function which is called between each async step of the upload\n",
              " * process.\n",
              " * @param {string} inputId Element ID of the input file picker element.\n",
              " * @param {string} outputId Element ID of the output display.\n",
              " * @return {!Iterable<!Object>} Iterable of next steps.\n",
              " */\n",
              "function* uploadFilesStep(inputId, outputId) {\n",
              "  const inputElement = document.getElementById(inputId);\n",
              "  inputElement.disabled = false;\n",
              "\n",
              "  const outputElement = document.getElementById(outputId);\n",
              "  outputElement.innerHTML = '';\n",
              "\n",
              "  const pickedPromise = new Promise((resolve) => {\n",
              "    inputElement.addEventListener('change', (e) => {\n",
              "      resolve(e.target.files);\n",
              "    });\n",
              "  });\n",
              "\n",
              "  const cancel = document.createElement('button');\n",
              "  inputElement.parentElement.appendChild(cancel);\n",
              "  cancel.textContent = 'Cancel upload';\n",
              "  const cancelPromise = new Promise((resolve) => {\n",
              "    cancel.onclick = () => {\n",
              "      resolve(null);\n",
              "    };\n",
              "  });\n",
              "\n",
              "  // Wait for the user to pick the files.\n",
              "  const files = yield {\n",
              "    promise: Promise.race([pickedPromise, cancelPromise]),\n",
              "    response: {\n",
              "      action: 'starting',\n",
              "    }\n",
              "  };\n",
              "\n",
              "  cancel.remove();\n",
              "\n",
              "  // Disable the input element since further picks are not allowed.\n",
              "  inputElement.disabled = true;\n",
              "\n",
              "  if (!files) {\n",
              "    return {\n",
              "      response: {\n",
              "        action: 'complete',\n",
              "      }\n",
              "    };\n",
              "  }\n",
              "\n",
              "  for (const file of files) {\n",
              "    const li = document.createElement('li');\n",
              "    li.append(span(file.name, {fontWeight: 'bold'}));\n",
              "    li.append(span(\n",
              "        `(${file.type || 'n/a'}) - ${file.size} bytes, ` +\n",
              "        `last modified: ${\n",
              "            file.lastModifiedDate ? file.lastModifiedDate.toLocaleDateString() :\n",
              "                                    'n/a'} - `));\n",
              "    const percent = span('0% done');\n",
              "    li.appendChild(percent);\n",
              "\n",
              "    outputElement.appendChild(li);\n",
              "\n",
              "    const fileDataPromise = new Promise((resolve) => {\n",
              "      const reader = new FileReader();\n",
              "      reader.onload = (e) => {\n",
              "        resolve(e.target.result);\n",
              "      };\n",
              "      reader.readAsArrayBuffer(file);\n",
              "    });\n",
              "    // Wait for the data to be ready.\n",
              "    let fileData = yield {\n",
              "      promise: fileDataPromise,\n",
              "      response: {\n",
              "        action: 'continue',\n",
              "      }\n",
              "    };\n",
              "\n",
              "    // Use a chunked sending to avoid message size limits. See b/62115660.\n",
              "    let position = 0;\n",
              "    do {\n",
              "      const length = Math.min(fileData.byteLength - position, MAX_PAYLOAD_SIZE);\n",
              "      const chunk = new Uint8Array(fileData, position, length);\n",
              "      position += length;\n",
              "\n",
              "      const base64 = btoa(String.fromCharCode.apply(null, chunk));\n",
              "      yield {\n",
              "        response: {\n",
              "          action: 'append',\n",
              "          file: file.name,\n",
              "          data: base64,\n",
              "        },\n",
              "      };\n",
              "\n",
              "      let percentDone = fileData.byteLength === 0 ?\n",
              "          100 :\n",
              "          Math.round((position / fileData.byteLength) * 100);\n",
              "      percent.textContent = `${percentDone}% done`;\n",
              "\n",
              "    } while (position < fileData.byteLength);\n",
              "  }\n",
              "\n",
              "  // All done.\n",
              "  yield {\n",
              "    response: {\n",
              "      action: 'complete',\n",
              "    }\n",
              "  };\n",
              "}\n",
              "\n",
              "scope.google = scope.google || {};\n",
              "scope.google.colab = scope.google.colab || {};\n",
              "scope.google.colab._files = {\n",
              "  _uploadFiles,\n",
              "  _uploadFilesContinue,\n",
              "};\n",
              "})(self);\n",
              "</script> "
            ]
          },
          "metadata": {}
        },
        {
          "output_type": "stream",
          "name": "stdout",
          "text": [
            "Saving kaggle.json to kaggle.json\n"
          ]
        },
        {
          "output_type": "execute_result",
          "data": {
            "text/plain": [
              "{'kaggle.json': b'{\"username\":\"hassanzeb01\",\"key\":\"3a2b2001e9bb40e6ab852e50f0cdbfac\"}'}"
            ]
          },
          "metadata": {},
          "execution_count": 1
        }
      ]
    },
    {
      "cell_type": "code",
      "source": [
        "!mkdir -p ~/.kaggle\n",
        "!cp kaggle.json ~/.kaggle/\n",
        "!chmod 600 ~/.kaggle/kaggle.json\n"
      ],
      "metadata": {
        "id": "WWhR2Yd3XCdV"
      },
      "execution_count": 2,
      "outputs": []
    },
    {
      "cell_type": "code",
      "source": [
        "!kaggle datasets download -d berkeleyearth/climate-change-earth-surface-temperature-data\n"
      ],
      "metadata": {
        "collapsed": true,
        "colab": {
          "base_uri": "https://localhost:8080/"
        },
        "id": "C8-ZXbwrXGuk",
        "outputId": "0c6169bb-fb55-4173-de8f-88ed7d8ff48b"
      },
      "execution_count": 3,
      "outputs": [
        {
          "output_type": "stream",
          "name": "stdout",
          "text": [
            "Dataset URL: https://www.kaggle.com/datasets/berkeleyearth/climate-change-earth-surface-temperature-data\n",
            "License(s): CC-BY-NC-SA-4.0\n",
            "Downloading climate-change-earth-surface-temperature-data.zip to /content\n",
            "  0% 0.00/84.7M [00:00<?, ?B/s]\n",
            "100% 84.7M/84.7M [00:00<00:00, 1.05GB/s]\n"
          ]
        }
      ]
    },
    {
      "cell_type": "code",
      "source": [
        "!unzip climate-change-earth-surface-temperature-data.zip\n"
      ],
      "metadata": {
        "collapsed": true,
        "colab": {
          "base_uri": "https://localhost:8080/"
        },
        "id": "co2nWgB4XL2E",
        "outputId": "4bd08ac4-b374-472d-91b0-1a28c07744a9"
      },
      "execution_count": 4,
      "outputs": [
        {
          "output_type": "stream",
          "name": "stdout",
          "text": [
            "Archive:  climate-change-earth-surface-temperature-data.zip\n",
            "  inflating: GlobalLandTemperaturesByCity.csv  \n",
            "  inflating: GlobalLandTemperaturesByCountry.csv  \n",
            "  inflating: GlobalLandTemperaturesByMajorCity.csv  \n",
            "  inflating: GlobalLandTemperaturesByState.csv  \n",
            "  inflating: GlobalTemperatures.csv  \n"
          ]
        }
      ]
    },
    {
      "cell_type": "markdown",
      "source": [
        "# 1. **Data Collection**"
      ],
      "metadata": {
        "id": "7zKWgQX5DC7o"
      }
    },
    {
      "cell_type": "code",
      "source": [
        "df = pd.read_csv('GlobalLandTemperaturesByCountry.csv')\n",
        "df.sample(20)"
      ],
      "metadata": {
        "id": "TY2RfnHbxpTI",
        "colab": {
          "base_uri": "https://localhost:8080/",
          "height": 677
        },
        "outputId": "67e7f9f5-3c6c-4dbd-9900-0166a5e2137d"
      },
      "execution_count": 7,
      "outputs": [
        {
          "output_type": "execute_result",
          "data": {
            "text/plain": [
              "                dt  AverageTemperature  AverageTemperatureUncertainty  \\\n",
              "573148  1981-10-01              26.091                          0.661   \n",
              "90284   1944-02-01              20.185                          0.209   \n",
              "573834  1875-03-01                 NaN                            NaN   \n",
              "8788    1867-01-01               5.285                          1.181   \n",
              "24409   1925-09-01              27.425                          0.489   \n",
              "27985   1831-10-01               7.530                          2.483   \n",
              "519345  1914-02-01              22.937                          0.707   \n",
              "301985  1772-04-01               4.117                          4.872   \n",
              "163330  1924-09-01              13.149                          0.263   \n",
              "181204  1751-05-01                 NaN                            NaN   \n",
              "462901  1968-08-01              18.349                          0.243   \n",
              "471982  1955-05-01              27.278                          0.345   \n",
              "96955   1988-10-01              23.997                          0.200   \n",
              "384152  1897-09-01              10.041                          0.525   \n",
              "177478  1980-09-01              24.242                          0.175   \n",
              "212459  1846-12-01              26.088                          0.982   \n",
              "458576  1878-02-01              26.838                          1.182   \n",
              "455713  1975-01-01              26.221                          0.200   \n",
              "412576  1926-09-01              26.512                          0.287   \n",
              "570717  1916-12-01              17.891                          0.553   \n",
              "\n",
              "                      Country  \n",
              "573148                  Yemen  \n",
              "90284                 Burundi  \n",
              "573834                 Zambia  \n",
              "8788                  Albania  \n",
              "24409     Antigua And Barbuda  \n",
              "27985                 Armenia  \n",
              "519345               Tanzania  \n",
              "301985          Liechtenstein  \n",
              "163330                Estonia  \n",
              "181204        France (Europe)  \n",
              "462901                 Serbia  \n",
              "471982           Sint Maarten  \n",
              "96955                Cameroon  \n",
              "384152          North America  \n",
              "177478                   Fiji  \n",
              "212459                Grenada  \n",
              "458576                Senegal  \n",
              "455713  Sao Tome And Principe  \n",
              "412576            Philippines  \n",
              "570717         Western Sahara  "
            ],
            "text/html": [
              "\n",
              "  <div id=\"df-cca85241-bec5-465e-9e2d-f19ac226ca13\" class=\"colab-df-container\">\n",
              "    <div>\n",
              "<style scoped>\n",
              "    .dataframe tbody tr th:only-of-type {\n",
              "        vertical-align: middle;\n",
              "    }\n",
              "\n",
              "    .dataframe tbody tr th {\n",
              "        vertical-align: top;\n",
              "    }\n",
              "\n",
              "    .dataframe thead th {\n",
              "        text-align: right;\n",
              "    }\n",
              "</style>\n",
              "<table border=\"1\" class=\"dataframe\">\n",
              "  <thead>\n",
              "    <tr style=\"text-align: right;\">\n",
              "      <th></th>\n",
              "      <th>dt</th>\n",
              "      <th>AverageTemperature</th>\n",
              "      <th>AverageTemperatureUncertainty</th>\n",
              "      <th>Country</th>\n",
              "    </tr>\n",
              "  </thead>\n",
              "  <tbody>\n",
              "    <tr>\n",
              "      <th>573148</th>\n",
              "      <td>1981-10-01</td>\n",
              "      <td>26.091</td>\n",
              "      <td>0.661</td>\n",
              "      <td>Yemen</td>\n",
              "    </tr>\n",
              "    <tr>\n",
              "      <th>90284</th>\n",
              "      <td>1944-02-01</td>\n",
              "      <td>20.185</td>\n",
              "      <td>0.209</td>\n",
              "      <td>Burundi</td>\n",
              "    </tr>\n",
              "    <tr>\n",
              "      <th>573834</th>\n",
              "      <td>1875-03-01</td>\n",
              "      <td>NaN</td>\n",
              "      <td>NaN</td>\n",
              "      <td>Zambia</td>\n",
              "    </tr>\n",
              "    <tr>\n",
              "      <th>8788</th>\n",
              "      <td>1867-01-01</td>\n",
              "      <td>5.285</td>\n",
              "      <td>1.181</td>\n",
              "      <td>Albania</td>\n",
              "    </tr>\n",
              "    <tr>\n",
              "      <th>24409</th>\n",
              "      <td>1925-09-01</td>\n",
              "      <td>27.425</td>\n",
              "      <td>0.489</td>\n",
              "      <td>Antigua And Barbuda</td>\n",
              "    </tr>\n",
              "    <tr>\n",
              "      <th>27985</th>\n",
              "      <td>1831-10-01</td>\n",
              "      <td>7.530</td>\n",
              "      <td>2.483</td>\n",
              "      <td>Armenia</td>\n",
              "    </tr>\n",
              "    <tr>\n",
              "      <th>519345</th>\n",
              "      <td>1914-02-01</td>\n",
              "      <td>22.937</td>\n",
              "      <td>0.707</td>\n",
              "      <td>Tanzania</td>\n",
              "    </tr>\n",
              "    <tr>\n",
              "      <th>301985</th>\n",
              "      <td>1772-04-01</td>\n",
              "      <td>4.117</td>\n",
              "      <td>4.872</td>\n",
              "      <td>Liechtenstein</td>\n",
              "    </tr>\n",
              "    <tr>\n",
              "      <th>163330</th>\n",
              "      <td>1924-09-01</td>\n",
              "      <td>13.149</td>\n",
              "      <td>0.263</td>\n",
              "      <td>Estonia</td>\n",
              "    </tr>\n",
              "    <tr>\n",
              "      <th>181204</th>\n",
              "      <td>1751-05-01</td>\n",
              "      <td>NaN</td>\n",
              "      <td>NaN</td>\n",
              "      <td>France (Europe)</td>\n",
              "    </tr>\n",
              "    <tr>\n",
              "      <th>462901</th>\n",
              "      <td>1968-08-01</td>\n",
              "      <td>18.349</td>\n",
              "      <td>0.243</td>\n",
              "      <td>Serbia</td>\n",
              "    </tr>\n",
              "    <tr>\n",
              "      <th>471982</th>\n",
              "      <td>1955-05-01</td>\n",
              "      <td>27.278</td>\n",
              "      <td>0.345</td>\n",
              "      <td>Sint Maarten</td>\n",
              "    </tr>\n",
              "    <tr>\n",
              "      <th>96955</th>\n",
              "      <td>1988-10-01</td>\n",
              "      <td>23.997</td>\n",
              "      <td>0.200</td>\n",
              "      <td>Cameroon</td>\n",
              "    </tr>\n",
              "    <tr>\n",
              "      <th>384152</th>\n",
              "      <td>1897-09-01</td>\n",
              "      <td>10.041</td>\n",
              "      <td>0.525</td>\n",
              "      <td>North America</td>\n",
              "    </tr>\n",
              "    <tr>\n",
              "      <th>177478</th>\n",
              "      <td>1980-09-01</td>\n",
              "      <td>24.242</td>\n",
              "      <td>0.175</td>\n",
              "      <td>Fiji</td>\n",
              "    </tr>\n",
              "    <tr>\n",
              "      <th>212459</th>\n",
              "      <td>1846-12-01</td>\n",
              "      <td>26.088</td>\n",
              "      <td>0.982</td>\n",
              "      <td>Grenada</td>\n",
              "    </tr>\n",
              "    <tr>\n",
              "      <th>458576</th>\n",
              "      <td>1878-02-01</td>\n",
              "      <td>26.838</td>\n",
              "      <td>1.182</td>\n",
              "      <td>Senegal</td>\n",
              "    </tr>\n",
              "    <tr>\n",
              "      <th>455713</th>\n",
              "      <td>1975-01-01</td>\n",
              "      <td>26.221</td>\n",
              "      <td>0.200</td>\n",
              "      <td>Sao Tome And Principe</td>\n",
              "    </tr>\n",
              "    <tr>\n",
              "      <th>412576</th>\n",
              "      <td>1926-09-01</td>\n",
              "      <td>26.512</td>\n",
              "      <td>0.287</td>\n",
              "      <td>Philippines</td>\n",
              "    </tr>\n",
              "    <tr>\n",
              "      <th>570717</th>\n",
              "      <td>1916-12-01</td>\n",
              "      <td>17.891</td>\n",
              "      <td>0.553</td>\n",
              "      <td>Western Sahara</td>\n",
              "    </tr>\n",
              "  </tbody>\n",
              "</table>\n",
              "</div>\n",
              "    <div class=\"colab-df-buttons\">\n",
              "\n",
              "  <div class=\"colab-df-container\">\n",
              "    <button class=\"colab-df-convert\" onclick=\"convertToInteractive('df-cca85241-bec5-465e-9e2d-f19ac226ca13')\"\n",
              "            title=\"Convert this dataframe to an interactive table.\"\n",
              "            style=\"display:none;\">\n",
              "\n",
              "  <svg xmlns=\"http://www.w3.org/2000/svg\" height=\"24px\" viewBox=\"0 -960 960 960\">\n",
              "    <path d=\"M120-120v-720h720v720H120Zm60-500h600v-160H180v160Zm220 220h160v-160H400v160Zm0 220h160v-160H400v160ZM180-400h160v-160H180v160Zm440 0h160v-160H620v160ZM180-180h160v-160H180v160Zm440 0h160v-160H620v160Z\"/>\n",
              "  </svg>\n",
              "    </button>\n",
              "\n",
              "  <style>\n",
              "    .colab-df-container {\n",
              "      display:flex;\n",
              "      gap: 12px;\n",
              "    }\n",
              "\n",
              "    .colab-df-convert {\n",
              "      background-color: #E8F0FE;\n",
              "      border: none;\n",
              "      border-radius: 50%;\n",
              "      cursor: pointer;\n",
              "      display: none;\n",
              "      fill: #1967D2;\n",
              "      height: 32px;\n",
              "      padding: 0 0 0 0;\n",
              "      width: 32px;\n",
              "    }\n",
              "\n",
              "    .colab-df-convert:hover {\n",
              "      background-color: #E2EBFA;\n",
              "      box-shadow: 0px 1px 2px rgba(60, 64, 67, 0.3), 0px 1px 3px 1px rgba(60, 64, 67, 0.15);\n",
              "      fill: #174EA6;\n",
              "    }\n",
              "\n",
              "    .colab-df-buttons div {\n",
              "      margin-bottom: 4px;\n",
              "    }\n",
              "\n",
              "    [theme=dark] .colab-df-convert {\n",
              "      background-color: #3B4455;\n",
              "      fill: #D2E3FC;\n",
              "    }\n",
              "\n",
              "    [theme=dark] .colab-df-convert:hover {\n",
              "      background-color: #434B5C;\n",
              "      box-shadow: 0px 1px 3px 1px rgba(0, 0, 0, 0.15);\n",
              "      filter: drop-shadow(0px 1px 2px rgba(0, 0, 0, 0.3));\n",
              "      fill: #FFFFFF;\n",
              "    }\n",
              "  </style>\n",
              "\n",
              "    <script>\n",
              "      const buttonEl =\n",
              "        document.querySelector('#df-cca85241-bec5-465e-9e2d-f19ac226ca13 button.colab-df-convert');\n",
              "      buttonEl.style.display =\n",
              "        google.colab.kernel.accessAllowed ? 'block' : 'none';\n",
              "\n",
              "      async function convertToInteractive(key) {\n",
              "        const element = document.querySelector('#df-cca85241-bec5-465e-9e2d-f19ac226ca13');\n",
              "        const dataTable =\n",
              "          await google.colab.kernel.invokeFunction('convertToInteractive',\n",
              "                                                    [key], {});\n",
              "        if (!dataTable) return;\n",
              "\n",
              "        const docLinkHtml = 'Like what you see? Visit the ' +\n",
              "          '<a target=\"_blank\" href=https://colab.research.google.com/notebooks/data_table.ipynb>data table notebook</a>'\n",
              "          + ' to learn more about interactive tables.';\n",
              "        element.innerHTML = '';\n",
              "        dataTable['output_type'] = 'display_data';\n",
              "        await google.colab.output.renderOutput(dataTable, element);\n",
              "        const docLink = document.createElement('div');\n",
              "        docLink.innerHTML = docLinkHtml;\n",
              "        element.appendChild(docLink);\n",
              "      }\n",
              "    </script>\n",
              "  </div>\n",
              "\n",
              "\n",
              "    <div id=\"df-3126e222-65b0-4c59-8772-608035a34991\">\n",
              "      <button class=\"colab-df-quickchart\" onclick=\"quickchart('df-3126e222-65b0-4c59-8772-608035a34991')\"\n",
              "                title=\"Suggest charts\"\n",
              "                style=\"display:none;\">\n",
              "\n",
              "<svg xmlns=\"http://www.w3.org/2000/svg\" height=\"24px\"viewBox=\"0 0 24 24\"\n",
              "     width=\"24px\">\n",
              "    <g>\n",
              "        <path d=\"M19 3H5c-1.1 0-2 .9-2 2v14c0 1.1.9 2 2 2h14c1.1 0 2-.9 2-2V5c0-1.1-.9-2-2-2zM9 17H7v-7h2v7zm4 0h-2V7h2v10zm4 0h-2v-4h2v4z\"/>\n",
              "    </g>\n",
              "</svg>\n",
              "      </button>\n",
              "\n",
              "<style>\n",
              "  .colab-df-quickchart {\n",
              "      --bg-color: #E8F0FE;\n",
              "      --fill-color: #1967D2;\n",
              "      --hover-bg-color: #E2EBFA;\n",
              "      --hover-fill-color: #174EA6;\n",
              "      --disabled-fill-color: #AAA;\n",
              "      --disabled-bg-color: #DDD;\n",
              "  }\n",
              "\n",
              "  [theme=dark] .colab-df-quickchart {\n",
              "      --bg-color: #3B4455;\n",
              "      --fill-color: #D2E3FC;\n",
              "      --hover-bg-color: #434B5C;\n",
              "      --hover-fill-color: #FFFFFF;\n",
              "      --disabled-bg-color: #3B4455;\n",
              "      --disabled-fill-color: #666;\n",
              "  }\n",
              "\n",
              "  .colab-df-quickchart {\n",
              "    background-color: var(--bg-color);\n",
              "    border: none;\n",
              "    border-radius: 50%;\n",
              "    cursor: pointer;\n",
              "    display: none;\n",
              "    fill: var(--fill-color);\n",
              "    height: 32px;\n",
              "    padding: 0;\n",
              "    width: 32px;\n",
              "  }\n",
              "\n",
              "  .colab-df-quickchart:hover {\n",
              "    background-color: var(--hover-bg-color);\n",
              "    box-shadow: 0 1px 2px rgba(60, 64, 67, 0.3), 0 1px 3px 1px rgba(60, 64, 67, 0.15);\n",
              "    fill: var(--button-hover-fill-color);\n",
              "  }\n",
              "\n",
              "  .colab-df-quickchart-complete:disabled,\n",
              "  .colab-df-quickchart-complete:disabled:hover {\n",
              "    background-color: var(--disabled-bg-color);\n",
              "    fill: var(--disabled-fill-color);\n",
              "    box-shadow: none;\n",
              "  }\n",
              "\n",
              "  .colab-df-spinner {\n",
              "    border: 2px solid var(--fill-color);\n",
              "    border-color: transparent;\n",
              "    border-bottom-color: var(--fill-color);\n",
              "    animation:\n",
              "      spin 1s steps(1) infinite;\n",
              "  }\n",
              "\n",
              "  @keyframes spin {\n",
              "    0% {\n",
              "      border-color: transparent;\n",
              "      border-bottom-color: var(--fill-color);\n",
              "      border-left-color: var(--fill-color);\n",
              "    }\n",
              "    20% {\n",
              "      border-color: transparent;\n",
              "      border-left-color: var(--fill-color);\n",
              "      border-top-color: var(--fill-color);\n",
              "    }\n",
              "    30% {\n",
              "      border-color: transparent;\n",
              "      border-left-color: var(--fill-color);\n",
              "      border-top-color: var(--fill-color);\n",
              "      border-right-color: var(--fill-color);\n",
              "    }\n",
              "    40% {\n",
              "      border-color: transparent;\n",
              "      border-right-color: var(--fill-color);\n",
              "      border-top-color: var(--fill-color);\n",
              "    }\n",
              "    60% {\n",
              "      border-color: transparent;\n",
              "      border-right-color: var(--fill-color);\n",
              "    }\n",
              "    80% {\n",
              "      border-color: transparent;\n",
              "      border-right-color: var(--fill-color);\n",
              "      border-bottom-color: var(--fill-color);\n",
              "    }\n",
              "    90% {\n",
              "      border-color: transparent;\n",
              "      border-bottom-color: var(--fill-color);\n",
              "    }\n",
              "  }\n",
              "</style>\n",
              "\n",
              "      <script>\n",
              "        async function quickchart(key) {\n",
              "          const quickchartButtonEl =\n",
              "            document.querySelector('#' + key + ' button');\n",
              "          quickchartButtonEl.disabled = true;  // To prevent multiple clicks.\n",
              "          quickchartButtonEl.classList.add('colab-df-spinner');\n",
              "          try {\n",
              "            const charts = await google.colab.kernel.invokeFunction(\n",
              "                'suggestCharts', [key], {});\n",
              "          } catch (error) {\n",
              "            console.error('Error during call to suggestCharts:', error);\n",
              "          }\n",
              "          quickchartButtonEl.classList.remove('colab-df-spinner');\n",
              "          quickchartButtonEl.classList.add('colab-df-quickchart-complete');\n",
              "        }\n",
              "        (() => {\n",
              "          let quickchartButtonEl =\n",
              "            document.querySelector('#df-3126e222-65b0-4c59-8772-608035a34991 button');\n",
              "          quickchartButtonEl.style.display =\n",
              "            google.colab.kernel.accessAllowed ? 'block' : 'none';\n",
              "        })();\n",
              "      </script>\n",
              "    </div>\n",
              "\n",
              "    </div>\n",
              "  </div>\n"
            ],
            "application/vnd.google.colaboratory.intrinsic+json": {
              "type": "dataframe",
              "repr_error": "0"
            }
          },
          "metadata": {},
          "execution_count": 7
        }
      ]
    },
    {
      "cell_type": "markdown",
      "source": [
        "\n",
        "\n",
        "---\n",
        "\n",
        "\n",
        "\n"
      ],
      "metadata": {
        "id": "1s_tJdRUISN0"
      }
    },
    {
      "cell_type": "markdown",
      "source": [
        "# **2. Data Cleaning / Preprocessing**"
      ],
      "metadata": {
        "id": "gN1vugITDI2F"
      }
    },
    {
      "cell_type": "markdown",
      "source": [
        "### **2.1. Inspecting total number of rows & columns:**"
      ],
      "metadata": {
        "id": "z35JrzbyMX68"
      }
    },
    {
      "cell_type": "code",
      "source": [
        "df.shape"
      ],
      "metadata": {
        "colab": {
          "base_uri": "https://localhost:8080/"
        },
        "id": "Ur9VBFNSMgu-",
        "outputId": "c5a0c82e-1a3d-4c76-9b50-dc2cf6df6ab0"
      },
      "execution_count": 8,
      "outputs": [
        {
          "output_type": "execute_result",
          "data": {
            "text/plain": [
              "(577462, 4)"
            ]
          },
          "metadata": {},
          "execution_count": 8
        }
      ]
    },
    {
      "cell_type": "markdown",
      "source": [
        "Total Rows   : 577462\n",
        "\n",
        "Total Columns: 4"
      ],
      "metadata": {
        "id": "DwiQRHxVMkI1"
      }
    },
    {
      "cell_type": "markdown",
      "source": [
        "### **2.2. Inspecting Data type and format of the dataset:**"
      ],
      "metadata": {
        "id": "dCa3S6wUJ3Ig"
      }
    },
    {
      "cell_type": "code",
      "source": [
        "df.info()"
      ],
      "metadata": {
        "colab": {
          "base_uri": "https://localhost:8080/"
        },
        "id": "vNg6d0xQ0PYL",
        "outputId": "55b8c6e3-125b-45ab-d734-8406371fd8f0"
      },
      "execution_count": 9,
      "outputs": [
        {
          "output_type": "stream",
          "name": "stdout",
          "text": [
            "<class 'pandas.core.frame.DataFrame'>\n",
            "RangeIndex: 577462 entries, 0 to 577461\n",
            "Data columns (total 4 columns):\n",
            " #   Column                         Non-Null Count   Dtype  \n",
            "---  ------                         --------------   -----  \n",
            " 0   dt                             577462 non-null  object \n",
            " 1   AverageTemperature             544811 non-null  float64\n",
            " 2   AverageTemperatureUncertainty  545550 non-null  float64\n",
            " 3   Country                        577462 non-null  object \n",
            "dtypes: float64(2), object(2)\n",
            "memory usage: 17.6+ MB\n"
          ]
        }
      ]
    },
    {
      "cell_type": "markdown",
      "source": [
        "Understanding of dataset:\n",
        "\n",
        "\n",
        "*   1st colum (dt) of the dataset is **date** which is stored in string format which need to be converted to **datetime** type.\n",
        "\n",
        "*   **`AverageTemperature`** and **`AverageTemperatureUncertainty`** columns have numerical values with some missing values in it.\n",
        "\n",
        "* Column **`Country`** has categorical data with no missing values.\n",
        "\n"
      ],
      "metadata": {
        "id": "Y17eWXuiKU2q"
      }
    },
    {
      "cell_type": "markdown",
      "source": [
        "## **2.3 Changing datatype and Renaming Column:**"
      ],
      "metadata": {
        "id": "fDCaHQ7PQzUd"
      }
    },
    {
      "cell_type": "code",
      "source": [
        "#Renaming column\n",
        "df.rename(columns={'dt':'Date'}, inplace=True)"
      ],
      "metadata": {
        "id": "UjlnR9XWRXBa"
      },
      "execution_count": 10,
      "outputs": []
    },
    {
      "cell_type": "code",
      "source": [
        "# Changing datatype to datetime\n",
        "df['Date'] = pd.to_datetime(df['Date'])"
      ],
      "metadata": {
        "id": "-hBIo67pRplw"
      },
      "execution_count": 11,
      "outputs": []
    },
    {
      "cell_type": "code",
      "source": [
        "#Rechecking the changes: Column Name, Datatype\n",
        "df.info()"
      ],
      "metadata": {
        "colab": {
          "base_uri": "https://localhost:8080/"
        },
        "id": "FRAJTfPfSChg",
        "outputId": "eca4d6cc-2ab7-4652-8fe3-7a37b6e5c998"
      },
      "execution_count": 12,
      "outputs": [
        {
          "output_type": "stream",
          "name": "stdout",
          "text": [
            "<class 'pandas.core.frame.DataFrame'>\n",
            "RangeIndex: 577462 entries, 0 to 577461\n",
            "Data columns (total 4 columns):\n",
            " #   Column                         Non-Null Count   Dtype         \n",
            "---  ------                         --------------   -----         \n",
            " 0   Date                           577462 non-null  datetime64[ns]\n",
            " 1   AverageTemperature             544811 non-null  float64       \n",
            " 2   AverageTemperatureUncertainty  545550 non-null  float64       \n",
            " 3   Country                        577462 non-null  object        \n",
            "dtypes: datetime64[ns](1), float64(2), object(1)\n",
            "memory usage: 17.6+ MB\n"
          ]
        }
      ]
    },
    {
      "cell_type": "markdown",
      "source": [
        "## **2.4 Checking Duplicate Rows:**"
      ],
      "metadata": {
        "id": "qoQnHyKHm7YI"
      }
    },
    {
      "cell_type": "code",
      "source": [
        "dup = df.duplicated().sum()\n",
        "print('Dupicate Rows:',dup)"
      ],
      "metadata": {
        "id": "3UuaFpW0gc9D",
        "outputId": "3e32c663-a635-492a-aa73-2edacb82ef2b",
        "colab": {
          "base_uri": "https://localhost:8080/"
        }
      },
      "execution_count": 153,
      "outputs": [
        {
          "output_type": "stream",
          "name": "stdout",
          "text": [
            "Dupicate Rows: 0\n"
          ]
        }
      ]
    },
    {
      "cell_type": "markdown",
      "source": [
        "## **2.5. Handling Missing Values:**"
      ],
      "metadata": {
        "id": "OXX46jp9SXeQ"
      }
    },
    {
      "cell_type": "code",
      "source": [
        "# Exact number of missing values:\n",
        "df.isnull().sum()"
      ],
      "metadata": {
        "colab": {
          "base_uri": "https://localhost:8080/",
          "height": 210
        },
        "id": "jagIY6wlSpgi",
        "outputId": "a5c1eceb-5cc7-43f4-de10-da1fe1f3d600"
      },
      "execution_count": 14,
      "outputs": [
        {
          "output_type": "execute_result",
          "data": {
            "text/plain": [
              "Date                                 0\n",
              "AverageTemperature               32651\n",
              "AverageTemperatureUncertainty    31912\n",
              "Country                              0\n",
              "dtype: int64"
            ],
            "text/html": [
              "<div>\n",
              "<style scoped>\n",
              "    .dataframe tbody tr th:only-of-type {\n",
              "        vertical-align: middle;\n",
              "    }\n",
              "\n",
              "    .dataframe tbody tr th {\n",
              "        vertical-align: top;\n",
              "    }\n",
              "\n",
              "    .dataframe thead th {\n",
              "        text-align: right;\n",
              "    }\n",
              "</style>\n",
              "<table border=\"1\" class=\"dataframe\">\n",
              "  <thead>\n",
              "    <tr style=\"text-align: right;\">\n",
              "      <th></th>\n",
              "      <th>0</th>\n",
              "    </tr>\n",
              "  </thead>\n",
              "  <tbody>\n",
              "    <tr>\n",
              "      <th>Date</th>\n",
              "      <td>0</td>\n",
              "    </tr>\n",
              "    <tr>\n",
              "      <th>AverageTemperature</th>\n",
              "      <td>32651</td>\n",
              "    </tr>\n",
              "    <tr>\n",
              "      <th>AverageTemperatureUncertainty</th>\n",
              "      <td>31912</td>\n",
              "    </tr>\n",
              "    <tr>\n",
              "      <th>Country</th>\n",
              "      <td>0</td>\n",
              "    </tr>\n",
              "  </tbody>\n",
              "</table>\n",
              "</div><br><label><b>dtype:</b> int64</label>"
            ]
          },
          "metadata": {},
          "execution_count": 14
        }
      ]
    },
    {
      "cell_type": "markdown",
      "source": [
        "It show the missing values in columns: **`AverageTemperature`** and **`AverageTemperatureUncertainty`**"
      ],
      "metadata": {
        "id": "ls-J0tWDS05t"
      }
    },
    {
      "cell_type": "markdown",
      "source": [
        "Before dealing with the missing value we need to understand the distribution of it across the whole dataset which helps in choosing the technique of removing or filling the missing values. For this reason used a small library named: `missingno`"
      ],
      "metadata": {
        "id": "sv_nyznJjA94"
      }
    },
    {
      "cell_type": "code",
      "source": [
        "#Sorting the dataset before visualizing it to check missing values.\n",
        "df.sort_values(['Country', 'Date'], inplace=True)"
      ],
      "metadata": {
        "id": "GAISKPtdVewN"
      },
      "execution_count": 15,
      "outputs": []
    },
    {
      "cell_type": "code",
      "source": [
        "import missingno as msno\n",
        "\n",
        "msno.matrix(df,figsize=(6, 6))\n",
        "plt.xticks(fontsize=10)\n",
        "plt.yticks(fontsize=10)\n",
        "plt.show()"
      ],
      "metadata": {
        "colab": {
          "base_uri": "https://localhost:8080/",
          "height": 688
        },
        "id": "zEJhnICEfQui",
        "outputId": "8335ceef-2cdb-498f-8fd8-b1211aadbff2"
      },
      "execution_count": 16,
      "outputs": [
        {
          "output_type": "display_data",
          "data": {
            "text/plain": [
              "<Figure size 600x600 with 2 Axes>"
            ],
            "image/png": "[encoded data removed]"
          },
          "metadata": {}
        }
      ]
    },
    {
      "cell_type": "markdown",
      "source": [
        "**Interpetation of Missing Values:**\n",
        "* `AverageTemperature` and `AverageTemperatureUncertainty` shows a significant amount of data is missing across the dataset which is shown in white line and these can be filled by Forward Fill/Backward Fill."
      ],
      "metadata": {
        "id": "n2AG5TARRoOy"
      }
    },
    {
      "cell_type": "code",
      "source": [
        "df['AverageTemperature'] = df['AverageTemperature'].fillna(method='ffill')\n",
        "df['AverageTemperature'] = df['AverageTemperature'].fillna(method='bfill')\n",
        "\n",
        "df['AverageTemperatureUncertainty'] = df['AverageTemperatureUncertainty'].fillna(method='ffill')\n",
        "df['AverageTemperatureUncertainty'] = df['AverageTemperatureUncertainty'].fillna(method='bfill')"
      ],
      "metadata": {
        "colab": {
          "base_uri": "https://localhost:8080/"
        },
        "id": "5zLJ99xMnknD",
        "outputId": "eccf6938-e5c1-43e2-da97-1713033b8491",
        "collapsed": true
      },
      "execution_count": 17,
      "outputs": [
        {
          "output_type": "stream",
          "name": "stderr",
          "text": [
            "<ipython-input-17-45e3728dc8dd>:1: FutureWarning: Series.fillna with 'method' is deprecated and will raise in a future version. Use obj.ffill() or obj.bfill() instead.\n",
            "  df['AverageTemperature'] = df['AverageTemperature'].fillna(method='ffill')\n",
            "<ipython-input-17-45e3728dc8dd>:2: FutureWarning: Series.fillna with 'method' is deprecated and will raise in a future version. Use obj.ffill() or obj.bfill() instead.\n",
            "  df['AverageTemperature'] = df['AverageTemperature'].fillna(method='bfill')\n",
            "<ipython-input-17-45e3728dc8dd>:4: FutureWarning: Series.fillna with 'method' is deprecated and will raise in a future version. Use obj.ffill() or obj.bfill() instead.\n",
            "  df['AverageTemperatureUncertainty'] = df['AverageTemperatureUncertainty'].fillna(method='ffill')\n",
            "<ipython-input-17-45e3728dc8dd>:5: FutureWarning: Series.fillna with 'method' is deprecated and will raise in a future version. Use obj.ffill() or obj.bfill() instead.\n",
            "  df['AverageTemperatureUncertainty'] = df['AverageTemperatureUncertainty'].fillna(method='bfill')\n"
          ]
        }
      ]
    },
    {
      "cell_type": "code",
      "source": [
        "#Rechecking missing values\n",
        "df.isnull().sum()"
      ],
      "metadata": {
        "colab": {
          "base_uri": "https://localhost:8080/",
          "height": 210
        },
        "id": "7T-9-xQnoO5v",
        "outputId": "0e574b47-da46-4344-db4b-275d759f4643"
      },
      "execution_count": 18,
      "outputs": [
        {
          "output_type": "execute_result",
          "data": {
            "text/plain": [
              "Date                             0\n",
              "AverageTemperature               0\n",
              "AverageTemperatureUncertainty    0\n",
              "Country                          0\n",
              "dtype: int64"
            ],
            "text/html": [
              "<div>\n",
              "<style scoped>\n",
              "    .dataframe tbody tr th:only-of-type {\n",
              "        vertical-align: middle;\n",
              "    }\n",
              "\n",
              "    .dataframe tbody tr th {\n",
              "        vertical-align: top;\n",
              "    }\n",
              "\n",
              "    .dataframe thead th {\n",
              "        text-align: right;\n",
              "    }\n",
              "</style>\n",
              "<table border=\"1\" class=\"dataframe\">\n",
              "  <thead>\n",
              "    <tr style=\"text-align: right;\">\n",
              "      <th></th>\n",
              "      <th>0</th>\n",
              "    </tr>\n",
              "  </thead>\n",
              "  <tbody>\n",
              "    <tr>\n",
              "      <th>Date</th>\n",
              "      <td>0</td>\n",
              "    </tr>\n",
              "    <tr>\n",
              "      <th>AverageTemperature</th>\n",
              "      <td>0</td>\n",
              "    </tr>\n",
              "    <tr>\n",
              "      <th>AverageTemperatureUncertainty</th>\n",
              "      <td>0</td>\n",
              "    </tr>\n",
              "    <tr>\n",
              "      <th>Country</th>\n",
              "      <td>0</td>\n",
              "    </tr>\n",
              "  </tbody>\n",
              "</table>\n",
              "</div><br><label><b>dtype:</b> int64</label>"
            ]
          },
          "metadata": {},
          "execution_count": 18
        }
      ]
    },
    {
      "cell_type": "markdown",
      "source": [
        "# **3. Feature Engineering**"
      ],
      "metadata": {
        "id": "kzVWrD8gse3k"
      }
    },
    {
      "cell_type": "markdown",
      "source": [
        "Before working with the country column we need to understand how many columns do we have in it and what's the format of country names."
      ],
      "metadata": {
        "id": "6xZMjC6DjqCN"
      }
    },
    {
      "cell_type": "code",
      "source": [
        "country = df['Country'].unique()\n",
        "print(country)"
      ],
      "metadata": {
        "colab": {
          "base_uri": "https://localhost:8080/"
        },
        "id": "7IuyITkRvOsH",
        "outputId": "3f67992a-a8c3-4ac3-b93a-8fedffe4bceb"
      },
      "execution_count": 21,
      "outputs": [
        {
          "output_type": "stream",
          "name": "stdout",
          "text": [
            "['Afghanistan' 'Africa' 'Albania' 'Algeria' 'American Samoa' 'Andorra'\n",
            " 'Angola' 'Anguilla' 'Antarctica' 'Antigua And Barbuda' 'Argentina'\n",
            " 'Armenia' 'Aruba' 'Asia' 'Australia' 'Austria' 'Azerbaijan' 'Bahamas'\n",
            " 'Bahrain' 'Baker Island' 'Bangladesh' 'Barbados' 'Belarus' 'Belgium'\n",
            " 'Belize' 'Benin' 'Bhutan' 'Bolivia' 'Bonaire, Saint Eustatius And Saba'\n",
            " 'Bosnia And Herzegovina' 'Botswana' 'Brazil' 'British Virgin Islands'\n",
            " 'Bulgaria' 'Burkina Faso' 'Burma' 'Burundi' 'Cambodia' 'Cameroon'\n",
            " 'Canada' 'Cape Verde' 'Cayman Islands' 'Central African Republic' 'Chad'\n",
            " 'Chile' 'China' 'Christmas Island' 'Colombia' 'Comoros' 'Congo'\n",
            " 'Congo (Democratic Republic Of The)' 'Costa Rica' 'Croatia' 'Cuba'\n",
            " 'Curaçao' 'Cyprus' 'Czech Republic' \"Côte D'Ivoire\" 'Denmark'\n",
            " 'Denmark (Europe)' 'Djibouti' 'Dominica' 'Dominican Republic' 'Ecuador'\n",
            " 'Egypt' 'El Salvador' 'Equatorial Guinea' 'Eritrea' 'Estonia' 'Ethiopia'\n",
            " 'Europe' 'Falkland Islands (Islas Malvinas)' 'Faroe Islands'\n",
            " 'Federated States Of Micronesia' 'Fiji' 'Finland' 'France'\n",
            " 'France (Europe)' 'French Guiana' 'French Polynesia'\n",
            " 'French Southern And Antarctic Lands' 'Gabon' 'Gambia' 'Gaza Strip'\n",
            " 'Georgia' 'Germany' 'Ghana' 'Greece' 'Greenland' 'Grenada' 'Guadeloupe'\n",
            " 'Guam' 'Guatemala' 'Guernsey' 'Guinea' 'Guinea Bissau' 'Guyana' 'Haiti'\n",
            " 'Heard Island And Mcdonald Islands' 'Honduras' 'Hong Kong' 'Hungary'\n",
            " 'Iceland' 'India' 'Indonesia' 'Iran' 'Iraq' 'Ireland' 'Isle Of Man'\n",
            " 'Israel' 'Italy' 'Jamaica' 'Japan' 'Jersey' 'Jordan' 'Kazakhstan' 'Kenya'\n",
            " 'Kingman Reef' 'Kiribati' 'Kuwait' 'Kyrgyzstan' 'Laos' 'Latvia' 'Lebanon'\n",
            " 'Lesotho' 'Liberia' 'Libya' 'Liechtenstein' 'Lithuania' 'Luxembourg'\n",
            " 'Macau' 'Macedonia' 'Madagascar' 'Malawi' 'Malaysia' 'Mali' 'Malta'\n",
            " 'Martinique' 'Mauritania' 'Mauritius' 'Mayotte' 'Mexico' 'Moldova'\n",
            " 'Monaco' 'Mongolia' 'Montenegro' 'Montserrat' 'Morocco' 'Mozambique'\n",
            " 'Namibia' 'Nepal' 'Netherlands' 'Netherlands (Europe)' 'New Caledonia'\n",
            " 'New Zealand' 'Nicaragua' 'Niger' 'Nigeria' 'Niue' 'North America'\n",
            " 'North Korea' 'Northern Mariana Islands' 'Norway' 'Oceania' 'Oman'\n",
            " 'Pakistan' 'Palau' 'Palestina' 'Palmyra Atoll' 'Panama'\n",
            " 'Papua New Guinea' 'Paraguay' 'Peru' 'Philippines' 'Poland' 'Portugal'\n",
            " 'Puerto Rico' 'Qatar' 'Reunion' 'Romania' 'Russia' 'Rwanda'\n",
            " 'Saint Barthélemy' 'Saint Kitts And Nevis' 'Saint Lucia' 'Saint Martin'\n",
            " 'Saint Pierre And Miquelon' 'Saint Vincent And The Grenadines' 'Samoa'\n",
            " 'San Marino' 'Sao Tome And Principe' 'Saudi Arabia' 'Senegal' 'Serbia'\n",
            " 'Seychelles' 'Sierra Leone' 'Singapore' 'Sint Maarten' 'Slovakia'\n",
            " 'Slovenia' 'Solomon Islands' 'Somalia' 'South Africa' 'South America'\n",
            " 'South Georgia And The South Sandwich Isla' 'South Korea' 'Spain'\n",
            " 'Sri Lanka' 'Sudan' 'Suriname' 'Svalbard And Jan Mayen' 'Swaziland'\n",
            " 'Sweden' 'Switzerland' 'Syria' 'Taiwan' 'Tajikistan' 'Tanzania'\n",
            " 'Thailand' 'Timor Leste' 'Togo' 'Tonga' 'Trinidad And Tobago' 'Tunisia'\n",
            " 'Turkey' 'Turkmenistan' 'Turks And Caicas Islands' 'Uganda' 'Ukraine'\n",
            " 'United Arab Emirates' 'United Kingdom' 'United Kingdom (Europe)'\n",
            " 'United States' 'Uruguay' 'Uzbekistan' 'Venezuela' 'Vietnam'\n",
            " 'Virgin Islands' 'Western Sahara' 'Yemen' 'Zambia' 'Zimbabwe' 'Åland']\n"
          ]
        }
      ]
    },
    {
      "cell_type": "markdown",
      "source": [
        "Inspection of all countries we can see that somee of the names are repeated with different format and some of them has ambiguous name and hard to define the correct country name and to handle these reasons performed following actions:\n",
        "\n",
        "**1.** In Country names following need to be renamed as listed below:\n",
        "\n",
        "* Denmark (Europe)\n",
        "* France (Europe)\n",
        "* Netherlands (Europe)\n",
        "* United Kingdom (Europe)\n"
      ],
      "metadata": {
        "id": "48r9JE2ukAdN"
      }
    },
    {
      "cell_type": "code",
      "source": [
        "df['Country'] = df['Country'].replace({\n",
        "    'Denmark (Europe)': 'Denmark',\n",
        "    'France (Europe)': 'France',\n",
        "    'Netherlands (Europe)': 'Netherlands',\n",
        "    'United Kingdom (Europe)': 'United Kingdom'\n",
        "})"
      ],
      "metadata": {
        "id": "wkEiD8D00mQL"
      },
      "execution_count": 22,
      "outputs": []
    },
    {
      "cell_type": "markdown",
      "source": [
        "**2.** In Country names following are unknown regions or hard to identify actual country name:\n",
        "* Oceania\n",
        "* Kingman Reef\n",
        "* Palmyra Atoll\n",
        "* Africa\n",
        "* Asia\n",
        "* Europe\n",
        "* North America\n",
        "* South America\n",
        "\n",
        "**3.** Occurace of these regions in dataset is very low as compare to the total size of dataset we can **delete** it and it will have no effect on calcuation."
      ],
      "metadata": {
        "id": "TBrOOxyT03Cw"
      }
    },
    {
      "cell_type": "code",
      "source": [
        "count = ['Oceania', 'Kingman Reef', 'Palmyra Atoll', 'Africa', 'Asia', 'Europe', 'North America', 'South America']\n",
        "\n",
        "df = df[~df['Country'].isin(count)]\n"
      ],
      "metadata": {
        "id": "RvHYagUW2rab"
      },
      "execution_count": 23,
      "outputs": []
    },
    {
      "cell_type": "code",
      "source": [
        "# Rechekcing number of row\n",
        "df.shape"
      ],
      "metadata": {
        "colab": {
          "base_uri": "https://localhost:8080/"
        },
        "id": "tUrBRvYTw7zQ",
        "outputId": "5e06cec5-d67a-4c90-e505-5cda165ac9cc"
      },
      "execution_count": null,
      "outputs": [
        {
          "output_type": "execute_result",
          "data": {
            "text/plain": [
              "(559921, 4)"
            ]
          },
          "metadata": {},
          "execution_count": 87
        }
      ]
    },
    {
      "cell_type": "code",
      "source": [
        "#Rechecking the Countries names\n",
        "countries = df['Country'].unique()\n",
        "print(countries)"
      ],
      "metadata": {
        "colab": {
          "base_uri": "https://localhost:8080/"
        },
        "id": "AElx8S3E73rC",
        "outputId": "29bcbce2-b872-4119-a917-9d7c9632a680"
      },
      "execution_count": 48,
      "outputs": [
        {
          "output_type": "stream",
          "name": "stdout",
          "text": [
            "['Afghanistan' 'Albania' 'Algeria' 'American Samoa' 'Andorra' 'Angola'\n",
            " 'Anguilla' 'Antarctica' 'Antigua And Barbuda' 'Argentina' 'Armenia'\n",
            " 'Aruba' 'Australia' 'Austria' 'Azerbaijan' 'Bahamas' 'Bahrain'\n",
            " 'Baker Island' 'Bangladesh' 'Barbados' 'Belarus' 'Belgium' 'Belize'\n",
            " 'Benin' 'Bhutan' 'Bolivia' 'Bonaire, Saint Eustatius And Saba'\n",
            " 'Bosnia And Herzegovina' 'Botswana' 'Brazil' 'British Virgin Islands'\n",
            " 'Bulgaria' 'Burkina Faso' 'Burma' 'Burundi' 'Cambodia' 'Cameroon'\n",
            " 'Canada' 'Cape Verde' 'Cayman Islands' 'Central African Republic' 'Chad'\n",
            " 'Chile' 'China' 'Christmas Island' 'Colombia' 'Comoros' 'Congo'\n",
            " 'Congo (Democratic Republic Of The)' 'Costa Rica' 'Croatia' 'Cuba'\n",
            " 'Curaçao' 'Cyprus' 'Czech Republic' \"Côte D'Ivoire\" 'Denmark' 'Djibouti'\n",
            " 'Dominica' 'Dominican Republic' 'Ecuador' 'Egypt' 'El Salvador'\n",
            " 'Equatorial Guinea' 'Eritrea' 'Estonia' 'Ethiopia'\n",
            " 'Falkland Islands (Islas Malvinas)' 'Faroe Islands'\n",
            " 'Federated States Of Micronesia' 'Fiji' 'Finland' 'France'\n",
            " 'French Guiana' 'French Polynesia' 'French Southern And Antarctic Lands'\n",
            " 'Gabon' 'Gambia' 'Gaza Strip' 'Georgia' 'Germany' 'Ghana' 'Greece'\n",
            " 'Greenland' 'Grenada' 'Guadeloupe' 'Guam' 'Guatemala' 'Guernsey' 'Guinea'\n",
            " 'Guinea Bissau' 'Guyana' 'Haiti' 'Heard Island And Mcdonald Islands'\n",
            " 'Honduras' 'Hong Kong' 'Hungary' 'Iceland' 'India' 'Indonesia' 'Iran'\n",
            " 'Iraq' 'Ireland' 'Isle Of Man' 'Israel' 'Italy' 'Jamaica' 'Japan'\n",
            " 'Jersey' 'Jordan' 'Kazakhstan' 'Kenya' 'Kiribati' 'Kuwait' 'Kyrgyzstan'\n",
            " 'Laos' 'Latvia' 'Lebanon' 'Lesotho' 'Liberia' 'Libya' 'Liechtenstein'\n",
            " 'Lithuania' 'Luxembourg' 'Macau' 'Macedonia' 'Madagascar' 'Malawi'\n",
            " 'Malaysia' 'Mali' 'Malta' 'Martinique' 'Mauritania' 'Mauritius' 'Mayotte'\n",
            " 'Mexico' 'Moldova' 'Monaco' 'Mongolia' 'Montenegro' 'Montserrat'\n",
            " 'Morocco' 'Mozambique' 'Namibia' 'Nepal' 'Netherlands' 'New Caledonia'\n",
            " 'New Zealand' 'Nicaragua' 'Niger' 'Nigeria' 'Niue' 'North Korea'\n",
            " 'Northern Mariana Islands' 'Norway' 'Oman' 'Pakistan' 'Palau' 'Palestina'\n",
            " 'Panama' 'Papua New Guinea' 'Paraguay' 'Peru' 'Philippines' 'Poland'\n",
            " 'Portugal' 'Puerto Rico' 'Qatar' 'Reunion' 'Romania' 'Russia' 'Rwanda'\n",
            " 'Saint Barthélemy' 'Saint Kitts And Nevis' 'Saint Lucia' 'Saint Martin'\n",
            " 'Saint Pierre And Miquelon' 'Saint Vincent And The Grenadines' 'Samoa'\n",
            " 'San Marino' 'Sao Tome And Principe' 'Saudi Arabia' 'Senegal' 'Serbia'\n",
            " 'Seychelles' 'Sierra Leone' 'Singapore' 'Sint Maarten' 'Slovakia'\n",
            " 'Slovenia' 'Solomon Islands' 'Somalia' 'South Africa'\n",
            " 'South Georgia And The South Sandwich Isla' 'South Korea' 'Spain'\n",
            " 'Sri Lanka' 'Sudan' 'Suriname' 'Svalbard And Jan Mayen' 'Swaziland'\n",
            " 'Sweden' 'Switzerland' 'Syria' 'Taiwan' 'Tajikistan' 'Tanzania'\n",
            " 'Thailand' 'Timor Leste' 'Togo' 'Tonga' 'Trinidad And Tobago' 'Tunisia'\n",
            " 'Turkey' 'Turkmenistan' 'Turks And Caicas Islands' 'Uganda' 'Ukraine'\n",
            " 'United Arab Emirates' 'United Kingdom' 'United States' 'Uruguay'\n",
            " 'Uzbekistan' 'Venezuela' 'Vietnam' 'Virgin Islands' 'Western Sahara'\n",
            " 'Yemen' 'Zambia' 'Zimbabwe' 'Åland']\n"
          ]
        }
      ]
    },
    {
      "cell_type": "markdown",
      "source": [
        "For bettere visualization adding one extra column `continent` in dataset which will also help in comparing the land temperature between different continent and continent names are as follow:\n",
        "* Africa\n",
        "* Asia\n",
        "* Antartica\n",
        "* Europe\n",
        "* North America\n",
        "* South America\n",
        "* Oceania\n",
        "\n",
        "Before adding the extra column `Continent` following operaton need to be perform on column `Country`:\n",
        "\n",
        "**Step 01:** Splitting the Countries into seprate relevant continent list.\\\n",
        "**Step 02:** Creating empty dictonary which will be use to map all countries to continent.\\\n",
        "**Step 03:** Adding all countries and their relevant continent to the created empty dictonary.\\\n",
        "**Step 04:** Looping through the each row of dataset and comparing the country name with the relevant continent name in dictonary\n",
        "\n",
        "\n"
      ],
      "metadata": {
        "id": "vFxDTNYe_AqE"
      }
    },
    {
      "cell_type": "markdown",
      "source": [
        "\n",
        "\n",
        "---\n",
        "\n"
      ],
      "metadata": {
        "id": "H7DuvDtfsS5D"
      }
    },
    {
      "cell_type": "markdown",
      "source": [
        "### **Step 01:Splitting the Countries into seprate relevant continent list.**"
      ],
      "metadata": {
        "id": "JXsZfOp0rskj"
      }
    },
    {
      "cell_type": "code",
      "source": [
        "#African Countries\n",
        "cont_africa = [\n",
        "    'Algeria', 'Angola', 'Benin', 'Botswana', 'Burkina Faso',\n",
        "    'Burundi', 'Cabo Verde', 'Cape Verde', 'Cameroon',\n",
        "    'Central African Republic', 'Chad', 'Comoros', 'Congo', 'Congo (Democratic Republic Of The)', \"Côte D'Ivoire\",\n",
        "    'Djibouti', 'Egypt', 'Equatorial Guinea', 'Eritrea', 'Eswatini', 'Ethiopia', 'Gabon', 'Gambia', 'Ghana',\n",
        "    'Guinea', 'Guinea Bissau', 'Kenya', 'Lesotho', 'Liberia', 'Libya', 'Madagascar', 'Malawi', 'Mali',\n",
        "    'Mauritania', 'Mauritius', 'Mayotte', 'Morocco', 'Mozambique', 'Namibia', 'Niger', 'Nigeria', 'Rwanda', 'Reunion',\n",
        "    'Sao Tome And Principe', 'Senegal', 'Seychelles', 'Sierra Leone', 'Somalia', 'South Africa', 'Sudan',\n",
        "    'Swaziland', 'Tanzania', 'Togo', 'Tunisia', 'Uganda', 'Western Sahara', 'Zambia', 'Zimbabwe']"
      ],
      "metadata": {
        "id": "8FDP8aQxDf4h"
      },
      "execution_count": 74,
      "outputs": []
    },
    {
      "cell_type": "code",
      "source": [
        "#Asian Countries\n",
        "cont_asia = [\n",
        "    'Afghanistan', 'Armenia', 'Azerbaijan', 'Bahrain', 'Bangladesh', 'Bhutan', 'Burma', 'Cambodia',\n",
        "     'China', 'Cyprus', 'Georgia', 'Gaza Strip', 'Hong Kong','India',\n",
        "    'Indonesia', 'Iran', 'Iraq', 'Israel', 'Japan', 'Jordan', 'Kazakhstan', 'Kuwait', 'Kyrgyzstan', 'Laos',\n",
        "    'Lebanon', 'Macau', 'Malaysia', 'Mongolia', 'Myanmar', 'Nepal', 'North Korea', 'Oman', 'Pakistan',\n",
        "    'Palestina', 'Philippines', 'Qatar', 'Saudi Arabia', 'Singapore', 'South Korea', 'Sri Lanka', 'Syria',\n",
        "    'Taiwan', 'Tajikistan', 'Thailand', 'Timor Leste', 'Turkmenistan', 'Turkey','United Arab Emirates', 'Uzbekistan',\n",
        "    'Vietnam', 'Yemen']"
      ],
      "metadata": {
        "id": "0hy0iWAXD8b-"
      },
      "execution_count": 75,
      "outputs": []
    },
    {
      "cell_type": "code",
      "source": [
        "#Antartica Countries\n",
        "cont_antartica = [\n",
        "    'Antarctica', 'Baker Island', 'Christmas Island', 'French Southern And Antarctic Lands', 'Heard Island And Mcdonald Islands', 'South Georgia And The South Sandwich Isla'\n",
        "]"
      ],
      "metadata": {
        "id": "T9XC373hEQQh"
      },
      "execution_count": 76,
      "outputs": []
    },
    {
      "cell_type": "code",
      "source": [
        "# European Countries\n",
        "cont_europe = [\n",
        "    'Albania', 'Andorra', 'Austria', 'Belarus', 'Belgium', 'Bosnia And Herzegovina', 'Bulgaria', 'Croatia',\n",
        "    'Czech Republic', 'Denmark', 'Estonia', 'Faroe Islands', 'Finland', 'France', 'Germany', 'Greece','Guernsey','Hungary',\n",
        "    'Iceland', 'Ireland', 'Italy',  'Isle Of Man','Jersey','Latvia', 'Liechtenstein', 'Lithuania', 'Luxembourg', 'Macedonia', 'Malta',\n",
        "    'Moldova', 'Monaco', 'Montenegro', 'Netherlands', 'Norway', 'Poland', 'Portugal', 'Romania', 'Russia',\n",
        "    'San Marino', 'Serbia', 'Slovakia', 'Slovenia', 'Spain', 'Svalbard And Jan Mayen', 'Sweden', 'Switzerland',\n",
        "    'Ukraine', 'United Kingdom', 'Åland'\n",
        "]"
      ],
      "metadata": {
        "id": "rCrGIZ_iEdK5"
      },
      "execution_count": 77,
      "outputs": []
    },
    {
      "cell_type": "code",
      "source": [
        "# Noth American Countries\n",
        "cont_north_america = [\n",
        "    'Anguilla', 'Antigua And Barbuda', 'Aruba', 'Bahamas', 'Barbados', 'Belize', 'Bonaire, Saint Eustatius And Saba',\n",
        "    'British Virgin Islands', 'Canada', 'Cayman Islands', 'Costa Rica', 'Cuba', 'Curaçao', 'Dominica',\n",
        "    'Dominican Republic', 'El Salvador', 'Greenland', 'Grenada', 'Guadeloupe', 'Guam', 'Guatemala', 'Haiti',\n",
        "    'Honduras', 'Jamaica', 'Martinique', 'Mexico', 'Montserrat', 'Nicaragua', 'Panama', 'Puerto Rico',\n",
        "    'Saint Barthélemy', 'Saint Kitts And Nevis', 'Saint Lucia', 'Saint Martin', 'Saint Pierre And Miquelon',\n",
        "    'Saint Vincent And The Grenadines', 'Sint Maarten', 'Trinidad And Tobago', 'Turks And Caicas Islands',\n",
        "    'United States', 'Virgin Islands'\n",
        "]"
      ],
      "metadata": {
        "id": "MtO7WRsLEkJ4"
      },
      "execution_count": 78,
      "outputs": []
    },
    {
      "cell_type": "code",
      "source": [
        "# South American Countries\n",
        "cont_south_america = [\n",
        "    'Argentina', 'Bolivia', 'Brazil', 'Chile', 'Colombia', 'Ecuador', 'Falkland Islands (Islas Malvinas)','French Guiana','Guyana', 'Paraguay', 'Peru', 'Suriname',\n",
        "    'Uruguay', 'Venezuela'\n",
        "]"
      ],
      "metadata": {
        "id": "RGYJ17yAE6qT"
      },
      "execution_count": 79,
      "outputs": []
    },
    {
      "cell_type": "code",
      "source": [
        "# Continent Oceania Countries\n",
        "cont_oceania = [\n",
        "    'American Samoa', 'Australia', 'Federated States Of Micronesia', 'Fiji', 'French Polynesia', 'Guam',\n",
        "    'Kiribati', 'New Caledonia', 'New Zealand', 'Niue', 'Northern Mariana Islands', 'Palau', 'Papua New Guinea',\n",
        "    'Samoa', 'Solomon Islands', 'Tonga'\n",
        "]"
      ],
      "metadata": {
        "id": "VkPuqQzrFI2T"
      },
      "execution_count": 80,
      "outputs": []
    },
    {
      "cell_type": "code",
      "source": [],
      "metadata": {
        "id": "M2CV_XvT15C0"
      },
      "execution_count": null,
      "outputs": []
    },
    {
      "cell_type": "markdown",
      "source": [
        "### **Step 02: Creating Empty Dictonary to map all countries to continent.**"
      ],
      "metadata": {
        "id": "scyAg10OteaC"
      }
    },
    {
      "cell_type": "code",
      "source": [
        "# To track all countries with relevant continent.\n",
        "continent_dist = {}\n"
      ],
      "metadata": {
        "id": "HKImpyXMFolG"
      },
      "execution_count": 81,
      "outputs": []
    },
    {
      "cell_type": "markdown",
      "source": [
        "### **Step 03: Adding Countries to Dictonary**"
      ],
      "metadata": {
        "id": "msDt8wK5uVLm"
      }
    },
    {
      "cell_type": "code",
      "source": [
        "# African countries\n",
        "for countries in cont_africa:\n",
        "  continent_dist[countries] = 'Africa'\n",
        "\n",
        "# Asian countries\n",
        "for countries in cont_asia:\n",
        "  continent_dist[countries] = 'Asia'\n",
        "\n",
        "# Antartican countries\n",
        "for countries in cont_antartica:\n",
        "  continent_dist[countries] = 'Antartica'\n",
        "\n",
        "# European countries\n",
        "for countries in cont_europe:\n",
        "  continent_dist[countries] = 'Europe'\n",
        "\n",
        "# North American countries\n",
        "for countries in cont_north_america:\n",
        "  continent_dist[countries] = 'North America'\n",
        "\n",
        "# North American countries\n",
        "for countries in cont_south_america:\n",
        "  continent_dist[countries] = 'South America'\n",
        "\n",
        "# Oceania countries\n",
        "for countries in cont_oceania:\n",
        "  continent_dist[countries] = 'Oceania'\n"
      ],
      "metadata": {
        "id": "nzVHQkmrunei"
      },
      "execution_count": 83,
      "outputs": []
    },
    {
      "cell_type": "markdown",
      "source": [
        "### **Step 04: Adding Column `Continent` in Dataset**"
      ],
      "metadata": {
        "id": "pOznHz1Lw8RE"
      }
    },
    {
      "cell_type": "code",
      "source": [
        "df['Continent'] = df['Country'].map(continent_dist)"
      ],
      "metadata": {
        "id": "12m5K0j3xN77"
      },
      "execution_count": 84,
      "outputs": []
    },
    {
      "cell_type": "code",
      "source": [
        "df.sample(5)"
      ],
      "metadata": {
        "colab": {
          "base_uri": "https://localhost:8080/",
          "height": 206
        },
        "id": "OITI9WUExeGd",
        "outputId": "286fc96a-6de1-464d-e65f-95a724c3430e"
      },
      "execution_count": 87,
      "outputs": [
        {
          "output_type": "execute_result",
          "data": {
            "text/plain": [
              "             Date  AverageTemperature  AverageTemperatureUncertainty  \\\n",
              "489029 1894-07-01              26.271                          0.466   \n",
              "566496 1981-09-01              26.564                          0.265   \n",
              "44052  1891-09-01              27.320                          0.545   \n",
              "452986 1905-07-01              23.467                          0.404   \n",
              "367928 1795-01-01              -4.426                          6.827   \n",
              "\n",
              "            Country      Continent  \n",
              "489029  South Korea           Asia  \n",
              "566496      Vietnam           Asia  \n",
              "44052       Bahamas  North America  \n",
              "452986   San Marino         Europe  \n",
              "367928  Netherlands         Europe  "
            ],
            "text/html": [
              "\n",
              "  <div id=\"df-f2703bff-5fc3-43e5-8a7b-e43b712612e1\" class=\"colab-df-container\">\n",
              "    <div>\n",
              "<style scoped>\n",
              "    .dataframe tbody tr th:only-of-type {\n",
              "        vertical-align: middle;\n",
              "    }\n",
              "\n",
              "    .dataframe tbody tr th {\n",
              "        vertical-align: top;\n",
              "    }\n",
              "\n",
              "    .dataframe thead th {\n",
              "        text-align: right;\n",
              "    }\n",
              "</style>\n",
              "<table border=\"1\" class=\"dataframe\">\n",
              "  <thead>\n",
              "    <tr style=\"text-align: right;\">\n",
              "      <th></th>\n",
              "      <th>Date</th>\n",
              "      <th>AverageTemperature</th>\n",
              "      <th>AverageTemperatureUncertainty</th>\n",
              "      <th>Country</th>\n",
              "      <th>Continent</th>\n",
              "    </tr>\n",
              "  </thead>\n",
              "  <tbody>\n",
              "    <tr>\n",
              "      <th>489029</th>\n",
              "      <td>1894-07-01</td>\n",
              "      <td>26.271</td>\n",
              "      <td>0.466</td>\n",
              "      <td>South Korea</td>\n",
              "      <td>Asia</td>\n",
              "    </tr>\n",
              "    <tr>\n",
              "      <th>566496</th>\n",
              "      <td>1981-09-01</td>\n",
              "      <td>26.564</td>\n",
              "      <td>0.265</td>\n",
              "      <td>Vietnam</td>\n",
              "      <td>Asia</td>\n",
              "    </tr>\n",
              "    <tr>\n",
              "      <th>44052</th>\n",
              "      <td>1891-09-01</td>\n",
              "      <td>27.320</td>\n",
              "      <td>0.545</td>\n",
              "      <td>Bahamas</td>\n",
              "      <td>North America</td>\n",
              "    </tr>\n",
              "    <tr>\n",
              "      <th>452986</th>\n",
              "      <td>1905-07-01</td>\n",
              "      <td>23.467</td>\n",
              "      <td>0.404</td>\n",
              "      <td>San Marino</td>\n",
              "      <td>Europe</td>\n",
              "    </tr>\n",
              "    <tr>\n",
              "      <th>367928</th>\n",
              "      <td>1795-01-01</td>\n",
              "      <td>-4.426</td>\n",
              "      <td>6.827</td>\n",
              "      <td>Netherlands</td>\n",
              "      <td>Europe</td>\n",
              "    </tr>\n",
              "  </tbody>\n",
              "</table>\n",
              "</div>\n",
              "    <div class=\"colab-df-buttons\">\n",
              "\n",
              "  <div class=\"colab-df-container\">\n",
              "    <button class=\"colab-df-convert\" onclick=\"convertToInteractive('df-f2703bff-5fc3-43e5-8a7b-e43b712612e1')\"\n",
              "            title=\"Convert this dataframe to an interactive table.\"\n",
              "            style=\"display:none;\">\n",
              "\n",
              "  <svg xmlns=\"http://www.w3.org/2000/svg\" height=\"24px\" viewBox=\"0 -960 960 960\">\n",
              "    <path d=\"M120-120v-720h720v720H120Zm60-500h600v-160H180v160Zm220 220h160v-160H400v160Zm0 220h160v-160H400v160ZM180-400h160v-160H180v160Zm440 0h160v-160H620v160ZM180-180h160v-160H180v160Zm440 0h160v-160H620v160Z\"/>\n",
              "  </svg>\n",
              "    </button>\n",
              "\n",
              "  <style>\n",
              "    .colab-df-container {\n",
              "      display:flex;\n",
              "      gap: 12px;\n",
              "    }\n",
              "\n",
              "    .colab-df-convert {\n",
              "      background-color: #E8F0FE;\n",
              "      border: none;\n",
              "      border-radius: 50%;\n",
              "      cursor: pointer;\n",
              "      display: none;\n",
              "      fill: #1967D2;\n",
              "      height: 32px;\n",
              "      padding: 0 0 0 0;\n",
              "      width: 32px;\n",
              "    }\n",
              "\n",
              "    .colab-df-convert:hover {\n",
              "      background-color: #E2EBFA;\n",
              "      box-shadow: 0px 1px 2px rgba(60, 64, 67, 0.3), 0px 1px 3px 1px rgba(60, 64, 67, 0.15);\n",
              "      fill: #174EA6;\n",
              "    }\n",
              "\n",
              "    .colab-df-buttons div {\n",
              "      margin-bottom: 4px;\n",
              "    }\n",
              "\n",
              "    [theme=dark] .colab-df-convert {\n",
              "      background-color: #3B4455;\n",
              "      fill: #D2E3FC;\n",
              "    }\n",
              "\n",
              "    [theme=dark] .colab-df-convert:hover {\n",
              "      background-color: #434B5C;\n",
              "      box-shadow: 0px 1px 3px 1px rgba(0, 0, 0, 0.15);\n",
              "      filter: drop-shadow(0px 1px 2px rgba(0, 0, 0, 0.3));\n",
              "      fill: #FFFFFF;\n",
              "    }\n",
              "  </style>\n",
              "\n",
              "    <script>\n",
              "      const buttonEl =\n",
              "        document.querySelector('#df-f2703bff-5fc3-43e5-8a7b-e43b712612e1 button.colab-df-convert');\n",
              "      buttonEl.style.display =\n",
              "        google.colab.kernel.accessAllowed ? 'block' : 'none';\n",
              "\n",
              "      async function convertToInteractive(key) {\n",
              "        const element = document.querySelector('#df-f2703bff-5fc3-43e5-8a7b-e43b712612e1');\n",
              "        const dataTable =\n",
              "          await google.colab.kernel.invokeFunction('convertToInteractive',\n",
              "                                                    [key], {});\n",
              "        if (!dataTable) return;\n",
              "\n",
              "        const docLinkHtml = 'Like what you see? Visit the ' +\n",
              "          '<a target=\"_blank\" href=https://colab.research.google.com/notebooks/data_table.ipynb>data table notebook</a>'\n",
              "          + ' to learn more about interactive tables.';\n",
              "        element.innerHTML = '';\n",
              "        dataTable['output_type'] = 'display_data';\n",
              "        await google.colab.output.renderOutput(dataTable, element);\n",
              "        const docLink = document.createElement('div');\n",
              "        docLink.innerHTML = docLinkHtml;\n",
              "        element.appendChild(docLink);\n",
              "      }\n",
              "    </script>\n",
              "  </div>\n",
              "\n",
              "\n",
              "    <div id=\"df-96b6300a-d593-4cd9-853c-906be920fad3\">\n",
              "      <button class=\"colab-df-quickchart\" onclick=\"quickchart('df-96b6300a-d593-4cd9-853c-906be920fad3')\"\n",
              "                title=\"Suggest charts\"\n",
              "                style=\"display:none;\">\n",
              "\n",
              "<svg xmlns=\"http://www.w3.org/2000/svg\" height=\"24px\"viewBox=\"0 0 24 24\"\n",
              "     width=\"24px\">\n",
              "    <g>\n",
              "        <path d=\"M19 3H5c-1.1 0-2 .9-2 2v14c0 1.1.9 2 2 2h14c1.1 0 2-.9 2-2V5c0-1.1-.9-2-2-2zM9 17H7v-7h2v7zm4 0h-2V7h2v10zm4 0h-2v-4h2v4z\"/>\n",
              "    </g>\n",
              "</svg>\n",
              "      </button>\n",
              "\n",
              "<style>\n",
              "  .colab-df-quickchart {\n",
              "      --bg-color: #E8F0FE;\n",
              "      --fill-color: #1967D2;\n",
              "      --hover-bg-color: #E2EBFA;\n",
              "      --hover-fill-color: #174EA6;\n",
              "      --disabled-fill-color: #AAA;\n",
              "      --disabled-bg-color: #DDD;\n",
              "  }\n",
              "\n",
              "  [theme=dark] .colab-df-quickchart {\n",
              "      --bg-color: #3B4455;\n",
              "      --fill-color: #D2E3FC;\n",
              "      --hover-bg-color: #434B5C;\n",
              "      --hover-fill-color: #FFFFFF;\n",
              "      --disabled-bg-color: #3B4455;\n",
              "      --disabled-fill-color: #666;\n",
              "  }\n",
              "\n",
              "  .colab-df-quickchart {\n",
              "    background-color: var(--bg-color);\n",
              "    border: none;\n",
              "    border-radius: 50%;\n",
              "    cursor: pointer;\n",
              "    display: none;\n",
              "    fill: var(--fill-color);\n",
              "    height: 32px;\n",
              "    padding: 0;\n",
              "    width: 32px;\n",
              "  }\n",
              "\n",
              "  .colab-df-quickchart:hover {\n",
              "    background-color: var(--hover-bg-color);\n",
              "    box-shadow: 0 1px 2px rgba(60, 64, 67, 0.3), 0 1px 3px 1px rgba(60, 64, 67, 0.15);\n",
              "    fill: var(--button-hover-fill-color);\n",
              "  }\n",
              "\n",
              "  .colab-df-quickchart-complete:disabled,\n",
              "  .colab-df-quickchart-complete:disabled:hover {\n",
              "    background-color: var(--disabled-bg-color);\n",
              "    fill: var(--disabled-fill-color);\n",
              "    box-shadow: none;\n",
              "  }\n",
              "\n",
              "  .colab-df-spinner {\n",
              "    border: 2px solid var(--fill-color);\n",
              "    border-color: transparent;\n",
              "    border-bottom-color: var(--fill-color);\n",
              "    animation:\n",
              "      spin 1s steps(1) infinite;\n",
              "  }\n",
              "\n",
              "  @keyframes spin {\n",
              "    0% {\n",
              "      border-color: transparent;\n",
              "      border-bottom-color: var(--fill-color);\n",
              "      border-left-color: var(--fill-color);\n",
              "    }\n",
              "    20% {\n",
              "      border-color: transparent;\n",
              "      border-left-color: var(--fill-color);\n",
              "      border-top-color: var(--fill-color);\n",
              "    }\n",
              "    30% {\n",
              "      border-color: transparent;\n",
              "      border-left-color: var(--fill-color);\n",
              "      border-top-color: var(--fill-color);\n",
              "      border-right-color: var(--fill-color);\n",
              "    }\n",
              "    40% {\n",
              "      border-color: transparent;\n",
              "      border-right-color: var(--fill-color);\n",
              "      border-top-color: var(--fill-color);\n",
              "    }\n",
              "    60% {\n",
              "      border-color: transparent;\n",
              "      border-right-color: var(--fill-color);\n",
              "    }\n",
              "    80% {\n",
              "      border-color: transparent;\n",
              "      border-right-color: var(--fill-color);\n",
              "      border-bottom-color: var(--fill-color);\n",
              "    }\n",
              "    90% {\n",
              "      border-color: transparent;\n",
              "      border-bottom-color: var(--fill-color);\n",
              "    }\n",
              "  }\n",
              "</style>\n",
              "\n",
              "      <script>\n",
              "        async function quickchart(key) {\n",
              "          const quickchartButtonEl =\n",
              "            document.querySelector('#' + key + ' button');\n",
              "          quickchartButtonEl.disabled = true;  // To prevent multiple clicks.\n",
              "          quickchartButtonEl.classList.add('colab-df-spinner');\n",
              "          try {\n",
              "            const charts = await google.colab.kernel.invokeFunction(\n",
              "                'suggestCharts', [key], {});\n",
              "          } catch (error) {\n",
              "            console.error('Error during call to suggestCharts:', error);\n",
              "          }\n",
              "          quickchartButtonEl.classList.remove('colab-df-spinner');\n",
              "          quickchartButtonEl.classList.add('colab-df-quickchart-complete');\n",
              "        }\n",
              "        (() => {\n",
              "          let quickchartButtonEl =\n",
              "            document.querySelector('#df-96b6300a-d593-4cd9-853c-906be920fad3 button');\n",
              "          quickchartButtonEl.style.display =\n",
              "            google.colab.kernel.accessAllowed ? 'block' : 'none';\n",
              "        })();\n",
              "      </script>\n",
              "    </div>\n",
              "\n",
              "    </div>\n",
              "  </div>\n"
            ],
            "application/vnd.google.colaboratory.intrinsic+json": {
              "type": "dataframe",
              "summary": "{\n  \"name\": \"df\",\n  \"rows\": 5,\n  \"fields\": [\n    {\n      \"column\": \"Date\",\n      \"properties\": {\n        \"dtype\": \"date\",\n        \"min\": \"1795-01-01 00:00:00\",\n        \"max\": \"1981-09-01 00:00:00\",\n        \"num_unique_values\": 5,\n        \"samples\": [\n          \"1981-09-01 00:00:00\",\n          \"1795-01-01 00:00:00\",\n          \"1891-09-01 00:00:00\"\n        ],\n        \"semantic_type\": \"\",\n        \"description\": \"\"\n      }\n    },\n    {\n      \"column\": \"AverageTemperature\",\n      \"properties\": {\n        \"dtype\": \"number\",\n        \"std\": 13.642893926876367,\n        \"min\": -4.426,\n        \"max\": 27.32,\n        \"num_unique_values\": 5,\n        \"samples\": [\n          26.564,\n          -4.426,\n          27.32\n        ],\n        \"semantic_type\": \"\",\n        \"description\": \"\"\n      }\n    },\n    {\n      \"column\": \"AverageTemperatureUncertainty\",\n      \"properties\": {\n        \"dtype\": \"number\",\n        \"std\": 2.8671301505163664,\n        \"min\": 0.265,\n        \"max\": 6.827000000000001,\n        \"num_unique_values\": 5,\n        \"samples\": [\n          0.265,\n          6.827000000000001,\n          0.545\n        ],\n        \"semantic_type\": \"\",\n        \"description\": \"\"\n      }\n    },\n    {\n      \"column\": \"Country\",\n      \"properties\": {\n        \"dtype\": \"string\",\n        \"num_unique_values\": 5,\n        \"samples\": [\n          \"Vietnam\",\n          \"Netherlands\",\n          \"Bahamas\"\n        ],\n        \"semantic_type\": \"\",\n        \"description\": \"\"\n      }\n    },\n    {\n      \"column\": \"Continent\",\n      \"properties\": {\n        \"dtype\": \"string\",\n        \"num_unique_values\": 3,\n        \"samples\": [\n          \"Asia\",\n          \"North America\",\n          \"Europe\"\n        ],\n        \"semantic_type\": \"\",\n        \"description\": \"\"\n      }\n    }\n  ]\n}"
            }
          },
          "metadata": {},
          "execution_count": 87
        }
      ]
    },
    {
      "cell_type": "markdown",
      "source": [
        "\n",
        "\n",
        "---\n",
        "\n"
      ],
      "metadata": {
        "id": "bOtCYm7qIc1R"
      }
    },
    {
      "cell_type": "markdown",
      "source": [
        "# **4. Exploratory Data Analysis (EDA):**"
      ],
      "metadata": {
        "id": "nr1wn1XVFK26"
      }
    },
    {
      "cell_type": "markdown",
      "source": [
        "## **4.1 Statistical Analysis of Dataset:**"
      ],
      "metadata": {
        "id": "G8JDUDeZG9wk"
      }
    },
    {
      "cell_type": "code",
      "source": [
        "df.describe()"
      ],
      "metadata": {
        "id": "f5-T1HFnHFGU",
        "outputId": "e166a40d-19ea-439d-debc-44ba7912ca13",
        "colab": {
          "base_uri": "https://localhost:8080/",
          "height": 300
        }
      },
      "execution_count": 89,
      "outputs": [
        {
          "output_type": "execute_result",
          "data": {
            "text/plain": [
              "                                Date  AverageTemperature  \\\n",
              "count                         559921       559921.000000   \n",
              "mean   1909-01-23 20:29:41.196990208           17.462556   \n",
              "min              1743-11-01 00:00:00          -37.658000   \n",
              "25%              1862-08-01 00:00:00           10.432000   \n",
              "50%              1914-01-01 00:00:00           21.373000   \n",
              "75%              1964-02-01 00:00:00           25.788000   \n",
              "max              2013-09-01 00:00:00           38.842000   \n",
              "std                              NaN           10.810445   \n",
              "\n",
              "       AverageTemperatureUncertainty  \n",
              "count                  559921.000000  \n",
              "mean                        1.085749  \n",
              "min                         0.052000  \n",
              "25%                         0.337000  \n",
              "50%                         0.623000  \n",
              "75%                         1.356000  \n",
              "max                        15.003000  \n",
              "std                         1.223794  "
            ],
            "text/html": [
              "\n",
              "  <div id=\"df-da1c0c25-9836-45b7-8a7f-5fcce04c275f\" class=\"colab-df-container\">\n",
              "    <div>\n",
              "<style scoped>\n",
              "    .dataframe tbody tr th:only-of-type {\n",
              "        vertical-align: middle;\n",
              "    }\n",
              "\n",
              "    .dataframe tbody tr th {\n",
              "        vertical-align: top;\n",
              "    }\n",
              "\n",
              "    .dataframe thead th {\n",
              "        text-align: right;\n",
              "    }\n",
              "</style>\n",
              "<table border=\"1\" class=\"dataframe\">\n",
              "  <thead>\n",
              "    <tr style=\"text-align: right;\">\n",
              "      <th></th>\n",
              "      <th>Date</th>\n",
              "      <th>AverageTemperature</th>\n",
              "      <th>AverageTemperatureUncertainty</th>\n",
              "    </tr>\n",
              "  </thead>\n",
              "  <tbody>\n",
              "    <tr>\n",
              "      <th>count</th>\n",
              "      <td>559921</td>\n",
              "      <td>559921.000000</td>\n",
              "      <td>559921.000000</td>\n",
              "    </tr>\n",
              "    <tr>\n",
              "      <th>mean</th>\n",
              "      <td>1909-01-23 20:29:41.196990208</td>\n",
              "      <td>17.462556</td>\n",
              "      <td>1.085749</td>\n",
              "    </tr>\n",
              "    <tr>\n",
              "      <th>min</th>\n",
              "      <td>1743-11-01 00:00:00</td>\n",
              "      <td>-37.658000</td>\n",
              "      <td>0.052000</td>\n",
              "    </tr>\n",
              "    <tr>\n",
              "      <th>25%</th>\n",
              "      <td>1862-08-01 00:00:00</td>\n",
              "      <td>10.432000</td>\n",
              "      <td>0.337000</td>\n",
              "    </tr>\n",
              "    <tr>\n",
              "      <th>50%</th>\n",
              "      <td>1914-01-01 00:00:00</td>\n",
              "      <td>21.373000</td>\n",
              "      <td>0.623000</td>\n",
              "    </tr>\n",
              "    <tr>\n",
              "      <th>75%</th>\n",
              "      <td>1964-02-01 00:00:00</td>\n",
              "      <td>25.788000</td>\n",
              "      <td>1.356000</td>\n",
              "    </tr>\n",
              "    <tr>\n",
              "      <th>max</th>\n",
              "      <td>2013-09-01 00:00:00</td>\n",
              "      <td>38.842000</td>\n",
              "      <td>15.003000</td>\n",
              "    </tr>\n",
              "    <tr>\n",
              "      <th>std</th>\n",
              "      <td>NaN</td>\n",
              "      <td>10.810445</td>\n",
              "      <td>1.223794</td>\n",
              "    </tr>\n",
              "  </tbody>\n",
              "</table>\n",
              "</div>\n",
              "    <div class=\"colab-df-buttons\">\n",
              "\n",
              "  <div class=\"colab-df-container\">\n",
              "    <button class=\"colab-df-convert\" onclick=\"convertToInteractive('df-da1c0c25-9836-45b7-8a7f-5fcce04c275f')\"\n",
              "            title=\"Convert this dataframe to an interactive table.\"\n",
              "            style=\"display:none;\">\n",
              "\n",
              "  <svg xmlns=\"http://www.w3.org/2000/svg\" height=\"24px\" viewBox=\"0 -960 960 960\">\n",
              "    <path d=\"M120-120v-720h720v720H120Zm60-500h600v-160H180v160Zm220 220h160v-160H400v160Zm0 220h160v-160H400v160ZM180-400h160v-160H180v160Zm440 0h160v-160H620v160ZM180-180h160v-160H180v160Zm440 0h160v-160H620v160Z\"/>\n",
              "  </svg>\n",
              "    </button>\n",
              "\n",
              "  <style>\n",
              "    .colab-df-container {\n",
              "      display:flex;\n",
              "      gap: 12px;\n",
              "    }\n",
              "\n",
              "    .colab-df-convert {\n",
              "      background-color: #E8F0FE;\n",
              "      border: none;\n",
              "      border-radius: 50%;\n",
              "      cursor: pointer;\n",
              "      display: none;\n",
              "      fill: #1967D2;\n",
              "      height: 32px;\n",
              "      padding: 0 0 0 0;\n",
              "      width: 32px;\n",
              "    }\n",
              "\n",
              "    .colab-df-convert:hover {\n",
              "      background-color: #E2EBFA;\n",
              "      box-shadow: 0px 1px 2px rgba(60, 64, 67, 0.3), 0px 1px 3px 1px rgba(60, 64, 67, 0.15);\n",
              "      fill: #174EA6;\n",
              "    }\n",
              "\n",
              "    .colab-df-buttons div {\n",
              "      margin-bottom: 4px;\n",
              "    }\n",
              "\n",
              "    [theme=dark] .colab-df-convert {\n",
              "      background-color: #3B4455;\n",
              "      fill: #D2E3FC;\n",
              "    }\n",
              "\n",
              "    [theme=dark] .colab-df-convert:hover {\n",
              "      background-color: #434B5C;\n",
              "      box-shadow: 0px 1px 3px 1px rgba(0, 0, 0, 0.15);\n",
              "      filter: drop-shadow(0px 1px 2px rgba(0, 0, 0, 0.3));\n",
              "      fill: #FFFFFF;\n",
              "    }\n",
              "  </style>\n",
              "\n",
              "    <script>\n",
              "      const buttonEl =\n",
              "        document.querySelector('#df-da1c0c25-9836-45b7-8a7f-5fcce04c275f button.colab-df-convert');\n",
              "      buttonEl.style.display =\n",
              "        google.colab.kernel.accessAllowed ? 'block' : 'none';\n",
              "\n",
              "      async function convertToInteractive(key) {\n",
              "        const element = document.querySelector('#df-da1c0c25-9836-45b7-8a7f-5fcce04c275f');\n",
              "        const dataTable =\n",
              "          await google.colab.kernel.invokeFunction('convertToInteractive',\n",
              "                                                    [key], {});\n",
              "        if (!dataTable) return;\n",
              "\n",
              "        const docLinkHtml = 'Like what you see? Visit the ' +\n",
              "          '<a target=\"_blank\" href=https://colab.research.google.com/notebooks/data_table.ipynb>data table notebook</a>'\n",
              "          + ' to learn more about interactive tables.';\n",
              "        element.innerHTML = '';\n",
              "        dataTable['output_type'] = 'display_data';\n",
              "        await google.colab.output.renderOutput(dataTable, element);\n",
              "        const docLink = document.createElement('div');\n",
              "        docLink.innerHTML = docLinkHtml;\n",
              "        element.appendChild(docLink);\n",
              "      }\n",
              "    </script>\n",
              "  </div>\n",
              "\n",
              "\n",
              "    <div id=\"df-b65239f1-74a0-4d22-b2c5-3ee3ef7bde84\">\n",
              "      <button class=\"colab-df-quickchart\" onclick=\"quickchart('df-b65239f1-74a0-4d22-b2c5-3ee3ef7bde84')\"\n",
              "                title=\"Suggest charts\"\n",
              "                style=\"display:none;\">\n",
              "\n",
              "<svg xmlns=\"http://www.w3.org/2000/svg\" height=\"24px\"viewBox=\"0 0 24 24\"\n",
              "     width=\"24px\">\n",
              "    <g>\n",
              "        <path d=\"M19 3H5c-1.1 0-2 .9-2 2v14c0 1.1.9 2 2 2h14c1.1 0 2-.9 2-2V5c0-1.1-.9-2-2-2zM9 17H7v-7h2v7zm4 0h-2V7h2v10zm4 0h-2v-4h2v4z\"/>\n",
              "    </g>\n",
              "</svg>\n",
              "      </button>\n",
              "\n",
              "<style>\n",
              "  .colab-df-quickchart {\n",
              "      --bg-color: #E8F0FE;\n",
              "      --fill-color: #1967D2;\n",
              "      --hover-bg-color: #E2EBFA;\n",
              "      --hover-fill-color: #174EA6;\n",
              "      --disabled-fill-color: #AAA;\n",
              "      --disabled-bg-color: #DDD;\n",
              "  }\n",
              "\n",
              "  [theme=dark] .colab-df-quickchart {\n",
              "      --bg-color: #3B4455;\n",
              "      --fill-color: #D2E3FC;\n",
              "      --hover-bg-color: #434B5C;\n",
              "      --hover-fill-color: #FFFFFF;\n",
              "      --disabled-bg-color: #3B4455;\n",
              "      --disabled-fill-color: #666;\n",
              "  }\n",
              "\n",
              "  .colab-df-quickchart {\n",
              "    background-color: var(--bg-color);\n",
              "    border: none;\n",
              "    border-radius: 50%;\n",
              "    cursor: pointer;\n",
              "    display: none;\n",
              "    fill: var(--fill-color);\n",
              "    height: 32px;\n",
              "    padding: 0;\n",
              "    width: 32px;\n",
              "  }\n",
              "\n",
              "  .colab-df-quickchart:hover {\n",
              "    background-color: var(--hover-bg-color);\n",
              "    box-shadow: 0 1px 2px rgba(60, 64, 67, 0.3), 0 1px 3px 1px rgba(60, 64, 67, 0.15);\n",
              "    fill: var(--button-hover-fill-color);\n",
              "  }\n",
              "\n",
              "  .colab-df-quickchart-complete:disabled,\n",
              "  .colab-df-quickchart-complete:disabled:hover {\n",
              "    background-color: var(--disabled-bg-color);\n",
              "    fill: var(--disabled-fill-color);\n",
              "    box-shadow: none;\n",
              "  }\n",
              "\n",
              "  .colab-df-spinner {\n",
              "    border: 2px solid var(--fill-color);\n",
              "    border-color: transparent;\n",
              "    border-bottom-color: var(--fill-color);\n",
              "    animation:\n",
              "      spin 1s steps(1) infinite;\n",
              "  }\n",
              "\n",
              "  @keyframes spin {\n",
              "    0% {\n",
              "      border-color: transparent;\n",
              "      border-bottom-color: var(--fill-color);\n",
              "      border-left-color: var(--fill-color);\n",
              "    }\n",
              "    20% {\n",
              "      border-color: transparent;\n",
              "      border-left-color: var(--fill-color);\n",
              "      border-top-color: var(--fill-color);\n",
              "    }\n",
              "    30% {\n",
              "      border-color: transparent;\n",
              "      border-left-color: var(--fill-color);\n",
              "      border-top-color: var(--fill-color);\n",
              "      border-right-color: var(--fill-color);\n",
              "    }\n",
              "    40% {\n",
              "      border-color: transparent;\n",
              "      border-right-color: var(--fill-color);\n",
              "      border-top-color: var(--fill-color);\n",
              "    }\n",
              "    60% {\n",
              "      border-color: transparent;\n",
              "      border-right-color: var(--fill-color);\n",
              "    }\n",
              "    80% {\n",
              "      border-color: transparent;\n",
              "      border-right-color: var(--fill-color);\n",
              "      border-bottom-color: var(--fill-color);\n",
              "    }\n",
              "    90% {\n",
              "      border-color: transparent;\n",
              "      border-bottom-color: var(--fill-color);\n",
              "    }\n",
              "  }\n",
              "</style>\n",
              "\n",
              "      <script>\n",
              "        async function quickchart(key) {\n",
              "          const quickchartButtonEl =\n",
              "            document.querySelector('#' + key + ' button');\n",
              "          quickchartButtonEl.disabled = true;  // To prevent multiple clicks.\n",
              "          quickchartButtonEl.classList.add('colab-df-spinner');\n",
              "          try {\n",
              "            const charts = await google.colab.kernel.invokeFunction(\n",
              "                'suggestCharts', [key], {});\n",
              "          } catch (error) {\n",
              "            console.error('Error during call to suggestCharts:', error);\n",
              "          }\n",
              "          quickchartButtonEl.classList.remove('colab-df-spinner');\n",
              "          quickchartButtonEl.classList.add('colab-df-quickchart-complete');\n",
              "        }\n",
              "        (() => {\n",
              "          let quickchartButtonEl =\n",
              "            document.querySelector('#df-b65239f1-74a0-4d22-b2c5-3ee3ef7bde84 button');\n",
              "          quickchartButtonEl.style.display =\n",
              "            google.colab.kernel.accessAllowed ? 'block' : 'none';\n",
              "        })();\n",
              "      </script>\n",
              "    </div>\n",
              "\n",
              "    </div>\n",
              "  </div>\n"
            ],
            "application/vnd.google.colaboratory.intrinsic+json": {
              "type": "dataframe",
              "summary": "{\n  \"name\": \"df\",\n  \"rows\": 8,\n  \"fields\": [\n    {\n      \"column\": \"Date\",\n      \"properties\": {\n        \"dtype\": \"date\",\n        \"min\": \"1743-11-01 00:00:00\",\n        \"max\": \"2013-09-01 00:00:00\",\n        \"num_unique_values\": 7,\n        \"samples\": [\n          \"559921\",\n          \"1909-01-23 20:29:41.196990208\",\n          \"1964-02-01 00:00:00\"\n        ],\n        \"semantic_type\": \"\",\n        \"description\": \"\"\n      }\n    },\n    {\n      \"column\": \"AverageTemperature\",\n      \"properties\": {\n        \"dtype\": \"number\",\n        \"std\": 197957.57258709866,\n        \"min\": -37.658,\n        \"max\": 559921.0,\n        \"num_unique_values\": 8,\n        \"samples\": [\n          17.46255565338682,\n          25.788,\n          559921.0\n        ],\n        \"semantic_type\": \"\",\n        \"description\": \"\"\n      }\n    },\n    {\n      \"column\": \"AverageTemperatureUncertainty\",\n      \"properties\": {\n        \"dtype\": \"number\",\n        \"std\": 197960.97405992137,\n        \"min\": 0.052,\n        \"max\": 559921.0,\n        \"num_unique_values\": 8,\n        \"samples\": [\n          1.0857488395684398,\n          1.356,\n          559921.0\n        ],\n        \"semantic_type\": \"\",\n        \"description\": \"\"\n      }\n    }\n  ]\n}"
            }
          },
          "metadata": {},
          "execution_count": 89
        }
      ]
    },
    {
      "cell_type": "markdown",
      "source": [
        "* It shows dataset is ranges from 1743 to 2013.\n",
        "* **`AverageTemperature`** ranges from -37.65 to 38.84 with standard deviation of 10.95.\n",
        "* **`AverageTemperatureUncertainty`** ranges from 0.052 to 15 with standard deviation of 1.20.\n",
        "* There also missing values which can cause outliers in dataset which need to be handle before furthere analysis."
      ],
      "metadata": {
        "id": "4n7M_rELHUXd"
      }
    },
    {
      "cell_type": "markdown",
      "source": [
        "## **4.2 Distribution Analysis:**"
      ],
      "metadata": {
        "id": "tiDSJ7YSHsMP"
      }
    },
    {
      "cell_type": "code",
      "source": [
        "sns.histplot(df['AverageTemperature'], bins=30, kde=True)\n",
        "plt.title('Distribution of Average Temperature')\n",
        "plt.xlabel('Average Temperature')\n",
        "plt.ylabel('Frequency')\n",
        "plt.show()"
      ],
      "metadata": {
        "id": "C1U7sCKBHxct",
        "outputId": "6e5cd1c3-000e-481f-9dbb-7e438be10664",
        "colab": {
          "base_uri": "https://localhost:8080/",
          "height": 472
        }
      },
      "execution_count": 90,
      "outputs": [
        {
          "output_type": "display_data",
          "data": {
            "text/plain": [
              "<Figure size 640x480 with 1 Axes>"
            ],
            "image/png": "[encoded data removed]"
          },
          "metadata": {}
        }
      ]
    },
    {
      "cell_type": "markdown",
      "source": [
        "Distribution for `Average temperature`shows that 25°C was the most frequent temperatue and it is left-skewed dataset."
      ],
      "metadata": {
        "id": "-OrR8yUkH6yj"
      }
    },
    {
      "cell_type": "code",
      "source": [
        "sns.histplot(df['AverageTemperatureUncertainty'], bins=30, kde=True)\n",
        "plt.title('Distribution of Average Temperature Uncertainty')\n",
        "plt.xlabel('Average Temperature Uncertainty')\n",
        "plt.ylabel('Frequency')\n",
        "plt.show()"
      ],
      "metadata": {
        "id": "pru_TQ8WIAN3",
        "outputId": "6b58362e-2643-4bcb-ec95-4474bfce1fe3",
        "colab": {
          "base_uri": "https://localhost:8080/",
          "height": 472
        }
      },
      "execution_count": 91,
      "outputs": [
        {
          "output_type": "display_data",
          "data": {
            "text/plain": [
              "<Figure size 640x480 with 1 Axes>"
            ],
            "image/png": "[encoded data removed]"
          },
          "metadata": {}
        }
      ]
    },
    {
      "cell_type": "markdown",
      "source": [
        "Distribution of `Average Temperature Uncertainty` is heavily right-skewed and most of the observation are close to zero which means the actual measurment of the `Average temprature` is mostly accurate."
      ],
      "metadata": {
        "id": "zQ8_3BStIGQT"
      }
    },
    {
      "cell_type": "markdown",
      "source": [
        "## **4.3 Correlation Analysis:**"
      ],
      "metadata": {
        "id": "47xZEXdDJbii"
      }
    },
    {
      "cell_type": "markdown",
      "source": [
        "In dataset there is only two columns `Average temperature` and `Average Temperature Uncertainty` which have  numerical values and will perform correlation on these two columns."
      ],
      "metadata": {
        "id": "XszjelayKYOv"
      }
    },
    {
      "cell_type": "code",
      "source": [
        "correlation = df['AverageTemperature'].corr(df['AverageTemperatureUncertainty'])\n",
        "correlation"
      ],
      "metadata": {
        "id": "tqIpaBOoJoym",
        "outputId": "78f93b64-d9ff-4454-925f-35934bd630a9",
        "colab": {
          "base_uri": "https://localhost:8080/"
        }
      },
      "execution_count": 93,
      "outputs": [
        {
          "output_type": "execute_result",
          "data": {
            "text/plain": [
              "np.float64(-0.27887010937764267)"
            ]
          },
          "metadata": {},
          "execution_count": 93
        }
      ]
    },
    {
      "cell_type": "markdown",
      "source": [
        "Correlation between both columns are negatively very weak which means there is very slight effect of uncertainty on temperature when it is rises."
      ],
      "metadata": {
        "id": "fmhnaoQAMmr_"
      }
    },
    {
      "cell_type": "markdown",
      "source": [
        "## **4.4 Trend Analysis:**"
      ],
      "metadata": {
        "id": "fmoPRGMMVDPV"
      }
    },
    {
      "cell_type": "markdown",
      "source": [
        "### **A. Yearly Average Temperature - Globally:**"
      ],
      "metadata": {
        "id": "syJhGO7qVwjb"
      }
    },
    {
      "cell_type": "code",
      "source": [
        "# dtype of Date= datetime (only selecting Year from it)\n",
        "df['Year'] = df['Date'].dt.year\n",
        "\n",
        "average_temp = df.groupby('Year')['AverageTemperature'].mean()\n",
        "average_temp.plot(title='Yearly Average Temperature - Globally')\n",
        "plt.show()"
      ],
      "metadata": {
        "id": "Ki8j7RDORXQg",
        "outputId": "1a4e8c7e-501c-4bc5-af09-9a478062b93d",
        "colab": {
          "base_uri": "https://localhost:8080/",
          "height": 472
        }
      },
      "execution_count": 111,
      "outputs": [
        {
          "output_type": "display_data",
          "data": {
            "text/plain": [
              "<Figure size 640x480 with 1 Axes>"
            ],
            "image/png": "[encoded data removed]"
          },
          "metadata": {}
        }
      ]
    },
    {
      "cell_type": "markdown",
      "source": [
        "### **B. Average Temperature by Continent:**"
      ],
      "metadata": {
        "id": "ZuvhJ0wxWZQa"
      }
    },
    {
      "cell_type": "code",
      "source": [
        "# Grouppiong by Column - Continent\n",
        "continent_temp = df.groupby('Continent')['AverageTemperature'].mean().sort_values()\n",
        "\n",
        "continent_temp.plot(kind='bar')\n",
        "plt.title('Average Temperature by Continent')\n",
        "plt.xlabel('Continents')\n",
        "plt.ylabel('Average Temperature')\n",
        "plt.show()"
      ],
      "metadata": {
        "id": "5bbgReUnReno",
        "outputId": "1679b041-6421-450d-c6c8-271f9cfb1153",
        "colab": {
          "base_uri": "https://localhost:8080/",
          "height": 560
        }
      },
      "execution_count": 125,
      "outputs": [
        {
          "output_type": "display_data",
          "data": {
            "text/plain": [
              "<Figure size 640x480 with 1 Axes>"
            ],
            "image/png": "[encoded data removed]"
          },
          "metadata": {}
        }
      ]
    },
    {
      "cell_type": "markdown",
      "source": [
        "### **C. Top 10 Coldest Countries:**"
      ],
      "metadata": {
        "id": "XfzZ-3-HZfMx"
      }
    },
    {
      "cell_type": "code",
      "source": [
        "countries_temp = df.groupby('Country')['AverageTemperature'].mean()"
      ],
      "metadata": {
        "id": "8IZ5rm9hYIBq"
      },
      "execution_count": 117,
      "outputs": []
    },
    {
      "cell_type": "code",
      "source": [
        "cold_countries = countries_temp.sort_values(ascending=True).head(10)"
      ],
      "metadata": {
        "id": "odxHBfDcaByq"
      },
      "execution_count": 133,
      "outputs": []
    },
    {
      "cell_type": "code",
      "source": [
        "plt.figure(figsize=(6,6))\n",
        "cold_countries.plot(kind='bar', color='steelblue')\n",
        "plt.title('Top 10 Coldest Countries')\n",
        "plt.xlabel('Country')\n",
        "plt.ylabel('Average Temperature')\n",
        "plt.grid(axis='x')\n",
        "plt.show()"
      ],
      "metadata": {
        "id": "nlwk9sLMaRCi",
        "outputId": "45bb318b-f9dc-47ad-a6cc-dc09704b5665",
        "colab": {
          "base_uri": "https://localhost:8080/",
          "height": 855
        }
      },
      "execution_count": 134,
      "outputs": [
        {
          "output_type": "display_data",
          "data": {
            "text/plain": [
              "<Figure size 600x600 with 1 Axes>"
            ],
            "image/png": "[encoded data removed]"
          },
          "metadata": {}
        }
      ]
    },
    {
      "cell_type": "markdown",
      "source": [
        "### **D. Top 10 Hotest Countries:**"
      ],
      "metadata": {
        "id": "a_neBEEucl9l"
      }
    },
    {
      "cell_type": "code",
      "source": [
        "countries_temp = df.groupby('Country')['AverageTemperature'].mean()"
      ],
      "metadata": {
        "id": "hwT3CUw1cDuT"
      },
      "execution_count": 132,
      "outputs": []
    },
    {
      "cell_type": "code",
      "source": [
        "hot_countries = countries_temp.sort_values(ascending=False).head(10)"
      ],
      "metadata": {
        "id": "Dhx7yyYqcwKT"
      },
      "execution_count": 135,
      "outputs": []
    },
    {
      "cell_type": "code",
      "source": [
        "plt.figure(figsize=(6,6))\n",
        "hot_countries.plot(kind='bar', color='tomato')\n",
        "plt.title('Top 10 Hotest Countries')\n",
        "plt.xlabel('Country')\n",
        "plt.ylabel('Average Temperature')\n",
        "plt.grid(axis='x')\n",
        "plt.show()"
      ],
      "metadata": {
        "id": "c1_WB4VCc5lj",
        "outputId": "fbd32b90-4810-4ccb-edcb-466ff66d495f",
        "colab": {
          "base_uri": "https://localhost:8080/",
          "height": 639
        }
      },
      "execution_count": 139,
      "outputs": [
        {
          "output_type": "display_data",
          "data": {
            "text/plain": [
              "<Figure size 600x600 with 1 Axes>"
            ],
            "image/png": "[encoded data removed]"
          },
          "metadata": {}
        }
      ]
    },
    {
      "cell_type": "markdown",
      "source": [],
      "metadata": {
        "id": "WRcWBKFqhBuQ"
      }
    }
  ]
}